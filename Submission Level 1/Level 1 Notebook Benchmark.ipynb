{
 "cells": [
  {
   "cell_type": "markdown",
   "id": "626a022d-5469-4e2c-aba7-c6b00be60b54",
   "metadata": {},
   "source": [
    "# Level 1: Rice Crop Discovery Tool Benchmark Notebook"
   ]
  },
  {
   "cell_type": "markdown",
   "id": "ccfd5ecb-92da-4356-860f-64cec7534b45",
   "metadata": {},
   "source": [
    "## Challenge Level 1 Overview"
   ]
  },
  {
   "cell_type": "markdown",
   "id": "e854b5f4-ee16-40da-a6d1-81898cc52aae",
   "metadata": {},
   "source": [
    "<p align=\"justify\">Welcome to the EY Open Science Data Challenge 2023! This challenge consists of two levels – Level 1 and Level 2. This is the Level 1 challenge aimed at participants who are beginners or have intermediate skill sets in data science and programming. The goal of Level 1 is to predict the presence of rice crops at a given location using satellite data. By the time you complete this level, you will have developed a rice crop classification model, which can distinguish between rice and non-rice fields. \n",
    "</p>"
   ]
  },
  {
   "cell_type": "markdown",
   "id": "5f5c6226-0341-48c1-82b6-3fb000064462",
   "metadata": {},
   "source": [
    "<b>Challenge Aim: </b><p align=\"justify\"> <p>"
   ]
  },
  {
   "cell_type": "markdown",
   "id": "8bdd1b29",
   "metadata": {},
   "source": [
    "<p align=\"justify\">In this notebook, we will demonstrate a basic model workflow that can serve as a starting point for the challenge. The basic model has been built to predict rice crops against non-rice crops (which might include forest, other vegetation and water bodies) using features from the Sentinel-1 Radiometrically Terrain Corrected (RTC)  dataset as predictor variables. In this demonstration, we have used two features from the Sentinel-1 dataset, namely VV (Vertical polarization – Vertical polarization) and VH (Vertical polarization – Horizontal polarization) and trained a logistic regression model with these features. We have extracted the VV band and VH band data from the Sentinel-1 dataset for one day (21st March 2020), with an assumption that VV and VH values for this day are representative of VV and VH values for the entire year (2020) for a given location.\n",
    "\n",
    "Most of the functions presented in this notebook were adapted from the <a href=\"https://planetarycomputer.microsoft.com/dataset/sentinel-1-rtc#Example-Notebook\">Sentinel-1-RTC notebook</a> found in the Planetary Computer portal.</p>\n",
    "    \n",
    "<p align=\"justify\"> Please note that this notebook is just a starting point. We have made many assumptions in this notebook that you may think are not best for solving the challenge effectively. You are encouraged to modify these functions, rewrite them, or try an entirely new approach.</p>"
   ]
  },
  {
   "cell_type": "markdown",
   "id": "2cb152d6-21e5-46c6-931d-11e99e6a6798",
   "metadata": {},
   "source": [
    "## Load In Dependencies"
   ]
  },
  {
   "cell_type": "markdown",
   "id": "093dca36-dae9-4b87-9026-7508740cd746",
   "metadata": {},
   "source": [
    "To run this demonstration notebook, you will need to have the following packages imported below installed. This may take some time.  "
   ]
  },
  {
   "cell_type": "markdown",
   "id": "c546caac-b5a5-494f-95e8-19a01e117492",
   "metadata": {},
   "source": [
    "#### Note: Environment setup\n",
    "Running this notebook requires an API key.\n",
    "\n",
    "To use your API key locally, set the environment variable <i><b>PC_SDK_SUBSCRIPTION_KEY</i></b> or use <i><b>planetary_computer.settings.set_subscription_key(<YOUR API Key>)</i></b><br>\n",
    "See <a href=\"https://planetarycomputer.microsoft.com/docs/concepts/sas/#when-an-account-is-needed\">when an account is needed for more </a>, and <a href=\"https://planetarycomputer.microsoft.com/account/request\">request</a> an account if needed."
   ]
  },
  {
   "cell_type": "code",
   "execution_count": 1,
   "id": "3a03723e-78ae-4150-ba22-e2e485b95cdb",
   "metadata": {},
   "outputs": [],
   "source": [
    "# Supress Warnings\n",
    "import warnings\n",
    "warnings.filterwarnings('ignore')\n",
    "\n",
    "# Visualization\n",
    "import ipyleaflet\n",
    "import matplotlib.pyplot as plt\n",
    "from IPython.display import Image\n",
    "import seaborn as sns\n",
    "\n",
    "# Data Science\n",
    "import numpy as np\n",
    "import pandas as pd\n",
    "\n",
    "# Feature Engineering\n",
    "from sklearn.preprocessing import StandardScaler\n",
    "from sklearn.model_selection import train_test_split\n",
    "import optuna\n",
    "\n",
    "# Machine Learning\n",
    "from sklearn.linear_model import LogisticRegression\n",
    "from sklearn.metrics import f1_score, accuracy_score,classification_report,confusion_matrix\n",
    "\n",
    "# Planetary Computer Tools\n",
    "import pystac\n",
    "import pystac_client\n",
    "import odc\n",
    "from pystac_client import Client\n",
    "from pystac.extensions.eo import EOExtension as eo\n",
    "from odc.stac import stac_load\n",
    "import planetary_computer as pc\n",
    "#pc.settings.set_subscription_key('**************')\n",
    "\n",
    "# Others\n",
    "import requests\n",
    "import rich.table\n",
    "from itertools import cycle\n",
    "from tqdm import tqdm\n",
    "tqdm.pandas()"
   ]
  },
  {
   "cell_type": "markdown",
   "id": "1c268cf6",
   "metadata": {},
   "source": [
    "## Response Variable"
   ]
  },
  {
   "cell_type": "markdown",
   "id": "f80dbf04",
   "metadata": {},
   "source": [
    "Before building the model, we need to load in the rice crop presence data. We have curated for you data from a certain region in Vietnam for the year 2020. The data consists of  geo locations (Latitude and Longitude) with a tag specifying if the crop present in each geo location is rice or not.  "
   ]
  },
  {
   "cell_type": "code",
   "execution_count": 2,
   "id": "0f1da678",
   "metadata": {},
   "outputs": [
    {
     "data": {
      "text/html": [
       "<div>\n",
       "<style scoped>\n",
       "    .dataframe tbody tr th:only-of-type {\n",
       "        vertical-align: middle;\n",
       "    }\n",
       "\n",
       "    .dataframe tbody tr th {\n",
       "        vertical-align: top;\n",
       "    }\n",
       "\n",
       "    .dataframe thead th {\n",
       "        text-align: right;\n",
       "    }\n",
       "</style>\n",
       "<table border=\"1\" class=\"dataframe\">\n",
       "  <thead>\n",
       "    <tr style=\"text-align: right;\">\n",
       "      <th></th>\n",
       "      <th>Latitude and Longitude</th>\n",
       "      <th>Class of Land</th>\n",
       "    </tr>\n",
       "  </thead>\n",
       "  <tbody>\n",
       "    <tr>\n",
       "      <th>0</th>\n",
       "      <td>(10.323727047081501, 105.2516346045924)</td>\n",
       "      <td>Rice</td>\n",
       "    </tr>\n",
       "    <tr>\n",
       "      <th>1</th>\n",
       "      <td>(10.322364360592521, 105.27843410554115)</td>\n",
       "      <td>Rice</td>\n",
       "    </tr>\n",
       "    <tr>\n",
       "      <th>2</th>\n",
       "      <td>(10.321455902933202, 105.25254306225168)</td>\n",
       "      <td>Rice</td>\n",
       "    </tr>\n",
       "    <tr>\n",
       "      <th>3</th>\n",
       "      <td>(10.324181275911162, 105.25118037576274)</td>\n",
       "      <td>Rice</td>\n",
       "    </tr>\n",
       "    <tr>\n",
       "      <th>4</th>\n",
       "      <td>(10.324635504740822, 105.27389181724476)</td>\n",
       "      <td>Rice</td>\n",
       "    </tr>\n",
       "  </tbody>\n",
       "</table>\n",
       "</div>"
      ],
      "text/plain": [
       "                     Latitude and Longitude Class of Land\n",
       "0   (10.323727047081501, 105.2516346045924)          Rice\n",
       "1  (10.322364360592521, 105.27843410554115)          Rice\n",
       "2  (10.321455902933202, 105.25254306225168)          Rice\n",
       "3  (10.324181275911162, 105.25118037576274)          Rice\n",
       "4  (10.324635504740822, 105.27389181724476)          Rice"
      ]
     },
     "execution_count": 2,
     "metadata": {},
     "output_type": "execute_result"
    }
   ],
   "source": [
    "crop_presence_data = pd.read_csv(\"Crop_Location_Data.csv\")\n",
    "crop_presence_data.head()"
   ]
  },
  {
   "cell_type": "markdown",
   "id": "b3b6812c-7137-4873-b4ed-2dcdd470209b",
   "metadata": {},
   "source": [
    "## Predictor Variables"
   ]
  },
  {
   "cell_type": "markdown",
   "id": "1487a9dc-1308-4c05-a69a-ccfe60bc9100",
   "metadata": {},
   "source": [
    "<p align =\"justify\">Now that we have our crop location data, it is time to gather the predictor variables from the Sentinel-1 dataset. For a more in-depth look regarding the Sentinel-1 dataset and how to query it, see the Sentinel-1 <a href=\"https://challenge.ey.com/api/v1/storage/admin-files/6403146221623637-63ca8d537b1fe300146c79d0-Sentinel%201%20Phenology.ipynb/\"> supplementary \n",
    "notebook</a>.\n",
    "    \n",
    "\n",
    "<p align = \"justify\">Sentinel-1 radar data penetrates through the clouds, thus helping us to get the band values with minimal atmospheric attenuation. Band values such as VV and VH help us in distinguishing between the rice and non rice crops. Hence we are choosing VV and VH as predictor variables for this experiment. \n",
    "        \n",
    "<ul>\n",
    "<li>VV - gamma naught values of signal transmitted with vertical polarization and received with vertical polarization with radiometric terrain correction applied.\n",
    "\n",
    "<li>VH - gamma naught values of signal transmitted with vertical polarization and received with horizontal polarization with radiometric terrain correction applied.\n",
    "</ul>"
   ]
  },
  {
   "cell_type": "markdown",
   "id": "04011667-99ae-4820-a635-d8d50f716fe3",
   "metadata": {},
   "source": [
    "<h4 style=\"color:rgb(195, 52, 235)\"><strong>Tip 1</strong></h4>\n",
    "<p align=\"justify\">Participants might explore other combinations of bands from the Sentinel-1 data. For example, you can use mathematical combinations of bands to generate various <a href=\"https://challenge.ey.com/api/v1/storage/admin-files/3868217534768359-63ca8dc8aea56e00146e3489-Comprehensive%20Guide%20-%20Satellite%20Data.docx\">vegetation indices </a> which can then be used as features in your model.\n"
   ]
  },
  {
   "cell_type": "markdown",
   "id": "0c85257f-4a48-49e8-8036-10e9a6b69894",
   "metadata": {},
   "source": [
    "### Accessing the Sentinel-1 Data"
   ]
  },
  {
   "cell_type": "markdown",
   "id": "5399737c-46bb-44b7-bda8-4253c827e66d",
   "metadata": {},
   "source": [
    "<p align = \"Justify\">To get the Sentinel-1 data, we write a function called <i><b>get_sentinel_data.</b></i> This function will fetch VV and VH band values for a particular location over the specified time window. In this example, we have extracted VV and VH values for a day (21st March 2020). </p>"
   ]
  },
  {
   "cell_type": "markdown",
   "id": "87f85d6d-6c72-438b-81f8-8aafb1265b0a",
   "metadata": {},
   "source": [
    "<h4 style=\"color:rgb(195, 52, 235)\"><strong>Tip 2</strong></h4>\n",
    "<p align=\"justify\"> Extract VV and VH band values for an entire year. Different land classes (e.g., agriculture, water, urban) will have different annual variability. This variability will be better than a single date for accurately identifying land classes. Please find below a demonstration of extracting data for a day (21st March 2020)."
   ]
  },
  {
   "cell_type": "code",
   "execution_count": 3,
   "id": "5e339a34-cfa7-4899-9165-63ca7c01bbb9",
   "metadata": {},
   "outputs": [],
   "source": [
    "def get_sentinel_data(latlong,time_slice,assets):\n",
    "    '''\n",
    "    Returns VV and VH values for a given latitude and longitude \n",
    "    Attributes:\n",
    "    latlong - A tuple with 2 elements - latitude and longitude\n",
    "    time_slice - Timeframe for which the VV and VH values have to be extracted\n",
    "    assets - A list of bands to be extracted\n",
    "    '''\n",
    "\n",
    "    latlong=latlong.replace('(','').replace(')','').replace(' ','').split(',')\n",
    "    bbox_of_interest = (float(latlong[1]) , float(latlong[0]), float(latlong[1]) , float(latlong[0]))\n",
    "    time_of_interest = time_slice\n",
    "\n",
    "    catalog = pystac_client.Client.open(\n",
    "        \"https://planetarycomputer.microsoft.com/api/stac/v1\",\n",
    "        modifier=pc.sign_inplace,\n",
    "    )\n",
    "    search = catalog.search(\n",
    "        collections=[\"sentinel-1-rtc\"], bbox=bbox_of_interest, datetime=time_of_interest\n",
    "    )\n",
    "    items = list(search.get_all_items())\n",
    "    bands_of_interest = assests\n",
    "    data = stac_load([items[0]], patch_url=pc.sign, bbox=bbox_of_interest).isel(time=0)\n",
    "    vh = data[\"vh\"].astype(\"float\").values.tolist()[0][0]\n",
    "    vv = data[\"vv\"].astype(\"float\").values.tolist()[0][0]\n",
    "    return vh,vv"
   ]
  },
  {
   "cell_type": "markdown",
   "id": "caab9734-6cdf-466f-87c3-8067b05b90ba",
   "metadata": {},
   "source": [
    "<h4 style=\"color:rgb(195, 52, 235)\"><strong>Tip 3 </strong></h4>"
   ]
  },
  {
   "cell_type": "markdown",
   "id": "0cdb9b25-0c41-4f55-aa33-082adeb34dbd",
   "metadata": {},
   "source": [
    "Explore the approach of building a bounding box (e.g., 5x5 pixels) around the given latitude and longitude positions and then extract the aggregated band values (e.g., average, median) to get normalized band values to build the model. Radar data has inherent variability at the pixel level due to variable scattering response from the target. This effect is called “speckle” and it is common to filter the data to smooth these variations. Try using a 3x3, 5x5 or 7x7 window around the specific latitude and longitude point to get improved results."
   ]
  },
  {
   "cell_type": "code",
   "execution_count": 4,
   "id": "4c51cd6e-41e2-4df4-ae07-349be861f0f0",
   "metadata": {},
   "outputs": [
    {
     "name": "stderr",
     "output_type": "stream",
     "text": [
      "100%|██████████| 600/600 [02:04<00:00,  4.82it/s]\n"
     ]
    }
   ],
   "source": [
    "## Function call to extract VV,VH Values\n",
    "time_slice = \"2021-12-01/2022-04-3\"\n",
    "assests = ['vh','vv']\n",
    "vh_vv = []\n",
    "for coordinates in tqdm(crop_presence_data['Latitude and Longitude']):\n",
    "    vh_vv.append(get_sentinel_data(coordinates,time_slice,assests))\n",
    "vh_vv_data = pd.DataFrame(vh_vv,columns =['vh','vv'])"
   ]
  },
  {
   "cell_type": "markdown",
   "id": "aa872546-7567-418c-af04-1d8b4fa5bd60",
   "metadata": {},
   "source": [
    "## Joining the predictor variables and response variables\n",
    "Now that we have extracted our predictor variables, we need to join them onto the response variable . We use the function <i><b>combine_two_datasets</b></i> to combine the predictor variables and response variables.The <i><b>concat</b></i> function from pandas comes in handy here."
   ]
  },
  {
   "cell_type": "code",
   "execution_count": 5,
   "id": "96296d95-8290-4f26-80f9-9e221bfcfc81",
   "metadata": {},
   "outputs": [],
   "source": [
    "def combine_two_datasets(dataset1,dataset2):\n",
    "    '''\n",
    "    Returns a  vertically concatenated dataset.\n",
    "    Attributes:\n",
    "    dataset1 - Dataset 1 to be combined \n",
    "    dataset2 - Dataset 2 to be combined\n",
    "    '''\n",
    "    data = pd.concat([dataset1,dataset2], axis=1)\n",
    "    return data"
   ]
  },
  {
   "cell_type": "code",
   "execution_count": 6,
   "id": "20fa2b5f-727b-4781-9ff4-cc70596cd3f0",
   "metadata": {},
   "outputs": [
    {
     "data": {
      "text/html": [
       "<div>\n",
       "<style scoped>\n",
       "    .dataframe tbody tr th:only-of-type {\n",
       "        vertical-align: middle;\n",
       "    }\n",
       "\n",
       "    .dataframe tbody tr th {\n",
       "        vertical-align: top;\n",
       "    }\n",
       "\n",
       "    .dataframe thead th {\n",
       "        text-align: right;\n",
       "    }\n",
       "</style>\n",
       "<table border=\"1\" class=\"dataframe\">\n",
       "  <thead>\n",
       "    <tr style=\"text-align: right;\">\n",
       "      <th></th>\n",
       "      <th>Latitude and Longitude</th>\n",
       "      <th>Class of Land</th>\n",
       "      <th>vh</th>\n",
       "      <th>vv</th>\n",
       "    </tr>\n",
       "  </thead>\n",
       "  <tbody>\n",
       "    <tr>\n",
       "      <th>0</th>\n",
       "      <td>(10.323727047081501, 105.2516346045924)</td>\n",
       "      <td>Rice</td>\n",
       "      <td>0.007890</td>\n",
       "      <td>0.363590</td>\n",
       "    </tr>\n",
       "    <tr>\n",
       "      <th>1</th>\n",
       "      <td>(10.322364360592521, 105.27843410554115)</td>\n",
       "      <td>Rice</td>\n",
       "      <td>0.020705</td>\n",
       "      <td>0.593416</td>\n",
       "    </tr>\n",
       "    <tr>\n",
       "      <th>2</th>\n",
       "      <td>(10.321455902933202, 105.25254306225168)</td>\n",
       "      <td>Rice</td>\n",
       "      <td>0.014665</td>\n",
       "      <td>0.539215</td>\n",
       "    </tr>\n",
       "    <tr>\n",
       "      <th>3</th>\n",
       "      <td>(10.324181275911162, 105.25118037576274)</td>\n",
       "      <td>Rice</td>\n",
       "      <td>0.019545</td>\n",
       "      <td>0.404909</td>\n",
       "    </tr>\n",
       "    <tr>\n",
       "      <th>4</th>\n",
       "      <td>(10.324635504740822, 105.27389181724476)</td>\n",
       "      <td>Rice</td>\n",
       "      <td>0.007235</td>\n",
       "      <td>0.467683</td>\n",
       "    </tr>\n",
       "  </tbody>\n",
       "</table>\n",
       "</div>"
      ],
      "text/plain": [
       "                     Latitude and Longitude Class of Land        vh        vv\n",
       "0   (10.323727047081501, 105.2516346045924)          Rice  0.007890  0.363590\n",
       "1  (10.322364360592521, 105.27843410554115)          Rice  0.020705  0.593416\n",
       "2  (10.321455902933202, 105.25254306225168)          Rice  0.014665  0.539215\n",
       "3  (10.324181275911162, 105.25118037576274)          Rice  0.019545  0.404909\n",
       "4  (10.324635504740822, 105.27389181724476)          Rice  0.007235  0.467683"
      ]
     },
     "execution_count": 6,
     "metadata": {},
     "output_type": "execute_result"
    }
   ],
   "source": [
    "crop_data = combine_two_datasets(crop_presence_data,vh_vv_data)\n",
    "crop_data.head()"
   ]
  },
  {
   "cell_type": "markdown",
   "id": "fd4af7b5-41d1-4822-8d78-5e4bdc84b287",
   "metadata": {},
   "source": [
    "## Model Building\n"
   ]
  },
  {
   "cell_type": "markdown",
   "id": "a664ca55-dba1-440b-a4ef-2b6934c03929",
   "metadata": {},
   "source": [
    "<p align=\"justify\"> Now let us select the columns required for our model building exercise. We will consider only VV and VH for our model. It does not make sense to use latitude and longitude as predictor variables as they do not have any impact on presence of rice crop.</p>"
   ]
  },
  {
   "cell_type": "code",
   "execution_count": 7,
   "id": "536d53ad-2697-4283-8ceb-db94f93bad7e",
   "metadata": {},
   "outputs": [],
   "source": [
    "crop_data = crop_data[['vh','vv','Class of Land']]"
   ]
  },
  {
   "cell_type": "markdown",
   "id": "fca40658-8003-4195-b0d1-5efe29929ac9",
   "metadata": {},
   "source": [
    "### Train and Test Split "
   ]
  },
  {
   "cell_type": "markdown",
   "id": "b46507f5-cfd1-43d8-8b05-aa09ce8016af",
   "metadata": {},
   "source": [
    "<p align=\"justify\">We will now split the data into 70% training data and 30% test data. Scikit-learn alias “sklearn” is a robust library for machine learning in Python. The scikit-learn library has a <i><b>model_selection</b></i> module in which there is a splitting function <i><b>train_test_split</b></i>. You can use the same.</p>"
   ]
  },
  {
   "cell_type": "code",
   "execution_count": 8,
   "id": "062ac03d-245d-49af-82d9-56d3ac581e85",
   "metadata": {},
   "outputs": [],
   "source": [
    "X = crop_data.drop(columns=['Class of Land']).values\n",
    "y = crop_data ['Class of Land'].values\n",
    "X_train, X_test, y_train, y_test = train_test_split(X, y, test_size=0.3,stratify=y,random_state=40)"
   ]
  },
  {
   "cell_type": "markdown",
   "id": "b031607b-9e71-46c8-beb1-3610ab59c56a",
   "metadata": {},
   "source": [
    "### Feature Scaling "
   ]
  },
  {
   "cell_type": "markdown",
   "id": "3b2140c8-3fed-49a4-b9c5-7378c12c5784",
   "metadata": {},
   "source": [
    "<p align=\"justify\"> Before initiating the model training we may have to execute different data pre-processing steps. Here we are demonstrating the scaling of VV and VH variable by using Standard Scaler.</p>"
   ]
  },
  {
   "cell_type": "markdown",
   "id": "d859a23d-be08-4a7c-b27b-1a4afb03feb5",
   "metadata": {},
   "source": [
    "<p align = \"justify\">Feature Scaling is a data preprocessing step for numerical features. Many machine learning algorithms like Gradient descent methods, KNN algorithm, linear and logistic regression, etc. require data scaling to produce good results. Scikit learn provides functions that can be used to apply data scaling. Here we are using Standard Scaler.</p>"
   ]
  },
  {
   "cell_type": "markdown",
   "id": "6a85328e-bef5-4b81-b7a0-443557387e0c",
   "metadata": {},
   "source": [
    "<h4 style=\"color:rgb(195, 52, 235)\"><strong>Tip 4 </strong></h4>\n",
    "<p align=\"justify\">Participants might explore other feature scaling techniques like Min Max Scaler, Max Absolute Scaling, Robust Scaling etc.</p>"
   ]
  },
  {
   "cell_type": "code",
   "execution_count": 9,
   "id": "1506aede-aca0-4acc-a9b7-c7547dd9ed0a",
   "metadata": {},
   "outputs": [],
   "source": [
    "sc = StandardScaler()\n",
    "X_train = sc.fit_transform(X_train)\n",
    "X_test = sc.transform(X_test)"
   ]
  },
  {
   "cell_type": "markdown",
   "id": "ed1de27d-2b8b-4a3d-bf83-66f69f435402",
   "metadata": {},
   "source": [
    "### Model Training"
   ]
  },
  {
   "cell_type": "markdown",
   "id": "c3e978bb-a1af-48d7-ae11-6912bbe45adf",
   "metadata": {},
   "source": [
    "<p justify =\"align\">Now that we have the data in a format appropriate for machine learning, we can begin training a model. In this demonstration notebook, we have used a binary logistic regression model from the scikit-learn library. This library offers a wide range of other models, each with the capacity for extensive parameter tuning and customization capabilities.</p>\n",
    "\n",
    "<p justify =\"align\">Scikit-learn models require separation of predictor variables and the response variable. You have to store the predictor variables in array X and the response variable in the array Y. You must make sure not to include the response variable in array X. It also doesn't make sense to use latitude and longitude as predictor variables in such a confined area, so we drop those too.</p>"
   ]
  },
  {
   "cell_type": "code",
   "execution_count": 10,
   "id": "888f7099-afbf-47d5-a214-00ae0e11bf66",
   "metadata": {},
   "outputs": [
    {
     "data": {
      "text/html": [
       "<style>#sk-container-id-1 {color: black;background-color: white;}#sk-container-id-1 pre{padding: 0;}#sk-container-id-1 div.sk-toggleable {background-color: white;}#sk-container-id-1 label.sk-toggleable__label {cursor: pointer;display: block;width: 100%;margin-bottom: 0;padding: 0.3em;box-sizing: border-box;text-align: center;}#sk-container-id-1 label.sk-toggleable__label-arrow:before {content: \"▸\";float: left;margin-right: 0.25em;color: #696969;}#sk-container-id-1 label.sk-toggleable__label-arrow:hover:before {color: black;}#sk-container-id-1 div.sk-estimator:hover label.sk-toggleable__label-arrow:before {color: black;}#sk-container-id-1 div.sk-toggleable__content {max-height: 0;max-width: 0;overflow: hidden;text-align: left;background-color: #f0f8ff;}#sk-container-id-1 div.sk-toggleable__content pre {margin: 0.2em;color: black;border-radius: 0.25em;background-color: #f0f8ff;}#sk-container-id-1 input.sk-toggleable__control:checked~div.sk-toggleable__content {max-height: 200px;max-width: 100%;overflow: auto;}#sk-container-id-1 input.sk-toggleable__control:checked~label.sk-toggleable__label-arrow:before {content: \"▾\";}#sk-container-id-1 div.sk-estimator input.sk-toggleable__control:checked~label.sk-toggleable__label {background-color: #d4ebff;}#sk-container-id-1 div.sk-label input.sk-toggleable__control:checked~label.sk-toggleable__label {background-color: #d4ebff;}#sk-container-id-1 input.sk-hidden--visually {border: 0;clip: rect(1px 1px 1px 1px);clip: rect(1px, 1px, 1px, 1px);height: 1px;margin: -1px;overflow: hidden;padding: 0;position: absolute;width: 1px;}#sk-container-id-1 div.sk-estimator {font-family: monospace;background-color: #f0f8ff;border: 1px dotted black;border-radius: 0.25em;box-sizing: border-box;margin-bottom: 0.5em;}#sk-container-id-1 div.sk-estimator:hover {background-color: #d4ebff;}#sk-container-id-1 div.sk-parallel-item::after {content: \"\";width: 100%;border-bottom: 1px solid gray;flex-grow: 1;}#sk-container-id-1 div.sk-label:hover label.sk-toggleable__label {background-color: #d4ebff;}#sk-container-id-1 div.sk-serial::before {content: \"\";position: absolute;border-left: 1px solid gray;box-sizing: border-box;top: 0;bottom: 0;left: 50%;z-index: 0;}#sk-container-id-1 div.sk-serial {display: flex;flex-direction: column;align-items: center;background-color: white;padding-right: 0.2em;padding-left: 0.2em;position: relative;}#sk-container-id-1 div.sk-item {position: relative;z-index: 1;}#sk-container-id-1 div.sk-parallel {display: flex;align-items: stretch;justify-content: center;background-color: white;position: relative;}#sk-container-id-1 div.sk-item::before, #sk-container-id-1 div.sk-parallel-item::before {content: \"\";position: absolute;border-left: 1px solid gray;box-sizing: border-box;top: 0;bottom: 0;left: 50%;z-index: -1;}#sk-container-id-1 div.sk-parallel-item {display: flex;flex-direction: column;z-index: 1;position: relative;background-color: white;}#sk-container-id-1 div.sk-parallel-item:first-child::after {align-self: flex-end;width: 50%;}#sk-container-id-1 div.sk-parallel-item:last-child::after {align-self: flex-start;width: 50%;}#sk-container-id-1 div.sk-parallel-item:only-child::after {width: 0;}#sk-container-id-1 div.sk-dashed-wrapped {border: 1px dashed gray;margin: 0 0.4em 0.5em 0.4em;box-sizing: border-box;padding-bottom: 0.4em;background-color: white;}#sk-container-id-1 div.sk-label label {font-family: monospace;font-weight: bold;display: inline-block;line-height: 1.2em;}#sk-container-id-1 div.sk-label-container {text-align: center;}#sk-container-id-1 div.sk-container {/* jupyter's `normalize.less` sets `[hidden] { display: none; }` but bootstrap.min.css set `[hidden] { display: none !important; }` so we also need the `!important` here to be able to override the default hidden behavior on the sphinx rendered scikit-learn.org. See: https://github.com/scikit-learn/scikit-learn/issues/21755 */display: inline-block !important;position: relative;}#sk-container-id-1 div.sk-text-repr-fallback {display: none;}</style><div id=\"sk-container-id-1\" class=\"sk-top-container\"><div class=\"sk-text-repr-fallback\"><pre>LogisticRegression()</pre><b>In a Jupyter environment, please rerun this cell to show the HTML representation or trust the notebook. <br />On GitHub, the HTML representation is unable to render, please try loading this page with nbviewer.org.</b></div><div class=\"sk-container\" hidden><div class=\"sk-item\"><div class=\"sk-estimator sk-toggleable\"><input class=\"sk-toggleable__control sk-hidden--visually\" id=\"sk-estimator-id-1\" type=\"checkbox\" checked><label for=\"sk-estimator-id-1\" class=\"sk-toggleable__label sk-toggleable__label-arrow\">LogisticRegression</label><div class=\"sk-toggleable__content\"><pre>LogisticRegression()</pre></div></div></div></div></div>"
      ],
      "text/plain": [
       "LogisticRegression()"
      ]
     },
     "execution_count": 10,
     "metadata": {},
     "output_type": "execute_result"
    }
   ],
   "source": [
    "model = LogisticRegression(solver='lbfgs')\n",
    "model.fit(X_train,y_train)"
   ]
  },
  {
   "cell_type": "markdown",
   "id": "e87f54ac-ccd9-43a0-a53c-3403ee56c43d",
   "metadata": {},
   "source": [
    "## Model Evaluation"
   ]
  },
  {
   "cell_type": "markdown",
   "id": "c940c3e9-caa0-4081-9941-372082cad66b",
   "metadata": {},
   "source": [
    "Now that we have trained our model , all that is left is to evaluate it. For evaluation we will generate the classification report and will plot the confusion matrix. Scikit-learn provides many other metrics that can be used for evaluation. You can even write a code on your own."
   ]
  },
  {
   "cell_type": "markdown",
   "id": "35ad0925-b550-4b26-ae96-2ec160ae3dff",
   "metadata": {
    "tags": []
   },
   "source": [
    "### In-Sample Evaluation\n",
    "<p align=\"Jutisfy\"> We will be generating a classification report and a confusion matrix for the training data. It must be stressed that this is in-sample performance testing , which is the performance testing on the training dataset. These metrics are NOT truly indicative of the model's performance. You should wait to test the model performance on the test data before you feel confident about your model.</p>"
   ]
  },
  {
   "cell_type": "markdown",
   "id": "fab57db4-c7e8-4ff2-ac31-eea3f7eab64f",
   "metadata": {},
   "source": [
    "In this section, we make predictions on the training set and store them in the <b><i>insample_ predictions</i></b> variable. A confusion matrix is generated to gauge the robustness of the model. "
   ]
  },
  {
   "cell_type": "code",
   "execution_count": 11,
   "id": "a7a4196f-226e-4c52-8a64-bc00535bc97c",
   "metadata": {},
   "outputs": [],
   "source": [
    "insample_predictions = model.predict(X_train)"
   ]
  },
  {
   "cell_type": "code",
   "execution_count": 12,
   "id": "e131de89-a22d-4912-9f9b-6c7a12769c6c",
   "metadata": {},
   "outputs": [
    {
     "name": "stdout",
     "output_type": "stream",
     "text": [
      "Insample Accuracy 61.19%\n",
      "              precision    recall  f1-score   support\n",
      "\n",
      "    Non Rice       0.55      0.63      0.59       183\n",
      "        Rice       0.68      0.60      0.64       237\n",
      "\n",
      "    accuracy                           0.61       420\n",
      "   macro avg       0.61      0.61      0.61       420\n",
      "weighted avg       0.62      0.61      0.61       420\n",
      "\n"
     ]
    }
   ],
   "source": [
    "print(\"Insample Accuracy {0:.2f}%\".format(100*accuracy_score(insample_predictions,y_train)))\n",
    "print(classification_report(insample_predictions,y_train))"
   ]
  },
  {
   "cell_type": "markdown",
   "id": "e847aa72-37b8-498b-bd63-4130d1366b7e",
   "metadata": {},
   "source": [
    "<p> For plotting a confusion matrix we define the function <b><i>plot_confusion_matrix</i></b>."
   ]
  },
  {
   "cell_type": "code",
   "execution_count": 13,
   "id": "bb97e054-6e73-4d90-89e2-36ce094721f5",
   "metadata": {},
   "outputs": [],
   "source": [
    "def plot_confusion_matrix(true_value,predicted_value,title,labels):\n",
    "    '''\n",
    "    Plots a confusion matrix.\n",
    "    Attributes:\n",
    "    true_value - The ground truth value for comparision.\n",
    "    predicted_value - The values predicted by the model.\n",
    "    title - Title of the plot.\n",
    "    labels - The x and y labels of the plot.\n",
    "    '''\n",
    "    cm = confusion_matrix(true_value,predicted_value)\n",
    "    ax= plt.subplot()\n",
    "    sns.heatmap(cm, annot=True, fmt='g', ax=ax, cmap='Blues');\n",
    "    ax.set_xlabel('Predicted labels');\n",
    "    ax.set_ylabel('True labels'); \n",
    "    ax.set_title(title); \n",
    "    ax.xaxis.set_ticklabels(labels); \n",
    "    ax.yaxis.set_ticklabels(labels);"
   ]
  },
  {
   "cell_type": "code",
   "execution_count": 14,
   "id": "99c77326-b7d5-4dc4-8101-96bece8aceb2",
   "metadata": {},
   "outputs": [
    {
     "data": {
      "image/png": "[encoded data removed]",
      "text/plain": [
       "<Figure size 640x480 with 2 Axes>"
      ]
     },
     "metadata": {},
     "output_type": "display_data"
    }
   ],
   "source": [
    "plot_confusion_matrix(y_train,insample_predictions,\"Model Level 1: Logistic\\nRegression Model In-Sample Results\",['Rice', 'Non Rice'])"
   ]
  },
  {
   "cell_type": "markdown",
   "id": "e4fd9f2d-1add-499a-b692-f616ec02871d",
   "metadata": {},
   "source": [
    "### Out-Sample Evaluation"
   ]
  },
  {
   "cell_type": "markdown",
   "id": "5a9e1681-0cae-42c1-ad00-0ad3bb7eca71",
   "metadata": {},
   "source": [
    "When evaluating a machine learning model, it is essential to correctly and fairly evaluate the model's ability to generalize. This is because models have a tendency to overfit the dataset they are trained on. To estimate the out-of-sample performance, we will predict on the test data now. "
   ]
  },
  {
   "cell_type": "code",
   "execution_count": 15,
   "id": "0d7324d1-35fd-463f-9734-f2ad1552ae52",
   "metadata": {},
   "outputs": [],
   "source": [
    "outsample_predictions = model.predict(X_test)"
   ]
  },
  {
   "cell_type": "code",
   "execution_count": 16,
   "id": "4fdec320-a85c-49b9-8177-a65d5b85317a",
   "metadata": {},
   "outputs": [
    {
     "name": "stdout",
     "output_type": "stream",
     "text": [
      "Accuracy 57.22%\n",
      "              precision    recall  f1-score   support\n",
      "\n",
      "    Non Rice       0.58      0.53      0.55        90\n",
      "        Rice       0.57      0.61      0.59        90\n",
      "\n",
      "    accuracy                           0.57       180\n",
      "   macro avg       0.57      0.57      0.57       180\n",
      "weighted avg       0.57      0.57      0.57       180\n",
      "\n"
     ]
    }
   ],
   "source": [
    "print(\"Accuracy {0:.2f}%\".format(100*accuracy_score(outsample_predictions, y_test)))\n",
    "print(classification_report(y_test, outsample_predictions))"
   ]
  },
  {
   "cell_type": "code",
   "execution_count": 17,
   "id": "da5ed827-f3b8-47a2-865c-61bd2cd9621c",
   "metadata": {},
   "outputs": [
    {
     "data": {
      "image/png": "[encoded data removed]",
      "text/plain": [
       "<Figure size 640x480 with 2 Axes>"
      ]
     },
     "metadata": {},
     "output_type": "display_data"
    }
   ],
   "source": [
    "plot_confusion_matrix(y_test, outsample_predictions,\"Model Level 1: Logistic\\nRegression Model Out-Sample Results\",['Rice', 'Non Rice'])"
   ]
  },
  {
   "cell_type": "markdown",
   "id": "0f0bd4a4-5976-4a37-8f5b-fe46cf841e1f",
   "metadata": {},
   "source": [
    "From the above, we see that the model is able to achieve an F1 score of <b>0.57</b>. This is not a very good score, so your goal is to improve this score.  "
   ]
  },
  {
   "cell_type": "markdown",
   "id": "2629f3f5-5a51-45d7-9c68-75b969101405",
   "metadata": {},
   "source": [
    "## Submission"
   ]
  },
  {
   "cell_type": "markdown",
   "id": "287c178f-1113-4456-b1c6-3188273bc1f3",
   "metadata": {},
   "source": [
    "Once you are happy with your model, you can make a submission. To make a submission, you will need to use your model to make predictions about the presence of rice crops for a set of test coordinates we have provided in the <a href=\"https://challenge.ey.com/api/v1/storage/admin-files/6847912254281276-63ca8b5ab12e510013520e2b-challenge_1_submission_template.csv\"><b>\"challenge_1_submission_template.csv\"</b></a> file and upload the file onto the challenge platform."
   ]
  },
  {
   "cell_type": "code",
   "execution_count": 18,
   "id": "c1fc4682-5a87-4ccb-9b4d-877221e397e9",
   "metadata": {},
   "outputs": [
    {
     "data": {
      "text/html": [
       "<div>\n",
       "<style scoped>\n",
       "    .dataframe tbody tr th:only-of-type {\n",
       "        vertical-align: middle;\n",
       "    }\n",
       "\n",
       "    .dataframe tbody tr th {\n",
       "        vertical-align: top;\n",
       "    }\n",
       "\n",
       "    .dataframe thead th {\n",
       "        text-align: right;\n",
       "    }\n",
       "</style>\n",
       "<table border=\"1\" class=\"dataframe\">\n",
       "  <thead>\n",
       "    <tr style=\"text-align: right;\">\n",
       "      <th></th>\n",
       "      <th>id</th>\n",
       "      <th>target</th>\n",
       "    </tr>\n",
       "  </thead>\n",
       "  <tbody>\n",
       "    <tr>\n",
       "      <th>0</th>\n",
       "      <td>(10.18019073690894, 105.32022315786804)</td>\n",
       "      <td>NaN</td>\n",
       "    </tr>\n",
       "    <tr>\n",
       "      <th>1</th>\n",
       "      <td>(10.561107033461816, 105.12772097986661)</td>\n",
       "      <td>NaN</td>\n",
       "    </tr>\n",
       "    <tr>\n",
       "      <th>2</th>\n",
       "      <td>(10.623790611954897, 105.13771401411867)</td>\n",
       "      <td>NaN</td>\n",
       "    </tr>\n",
       "    <tr>\n",
       "      <th>3</th>\n",
       "      <td>(10.583364246115156, 105.23946127195805)</td>\n",
       "      <td>NaN</td>\n",
       "    </tr>\n",
       "    <tr>\n",
       "      <th>4</th>\n",
       "      <td>(10.20744446668854, 105.26844107128906)</td>\n",
       "      <td>NaN</td>\n",
       "    </tr>\n",
       "  </tbody>\n",
       "</table>\n",
       "</div>"
      ],
      "text/plain": [
       "                                         id  target\n",
       "0   (10.18019073690894, 105.32022315786804)     NaN\n",
       "1  (10.561107033461816, 105.12772097986661)     NaN\n",
       "2  (10.623790611954897, 105.13771401411867)     NaN\n",
       "3  (10.583364246115156, 105.23946127195805)     NaN\n",
       "4   (10.20744446668854, 105.26844107128906)     NaN"
      ]
     },
     "execution_count": 18,
     "metadata": {},
     "output_type": "execute_result"
    }
   ],
   "source": [
    "#Reading the coordinates for the submission\n",
    "test_file = pd.read_csv('Submission.csv')\n",
    "test_file.head()"
   ]
  },
  {
   "cell_type": "code",
   "execution_count": 19,
   "id": "c0c5e29a-3bfa-4f5e-ac00-ffbf6b18033e",
   "metadata": {},
   "outputs": [
    {
     "name": "stderr",
     "output_type": "stream",
     "text": [
      "100%|██████████| 250/250 [00:56<00:00,  4.40it/s]\n"
     ]
    }
   ],
   "source": [
    "## Get Sentinel-1-RTC Data\n",
    "time_slice = \"2021-12-01/2022-04-3\"\n",
    "assests = ['vh','vv']\n",
    "vh_vv = []\n",
    "for coordinates in tqdm(test_file['id']):\n",
    "    vh_vv.append(get_sentinel_data(coordinates,time_slice,assests))\n",
    "submission_vh_vv_data = pd.DataFrame(vh_vv,columns =['vh','vv'])"
   ]
  },
  {
   "cell_type": "code",
   "execution_count": 20,
   "id": "08b02ce9-ef4b-4e96-b895-cabca85f2860",
   "metadata": {},
   "outputs": [
    {
     "data": {
      "text/html": [
       "<div>\n",
       "<style scoped>\n",
       "    .dataframe tbody tr th:only-of-type {\n",
       "        vertical-align: middle;\n",
       "    }\n",
       "\n",
       "    .dataframe tbody tr th {\n",
       "        vertical-align: top;\n",
       "    }\n",
       "\n",
       "    .dataframe thead th {\n",
       "        text-align: right;\n",
       "    }\n",
       "</style>\n",
       "<table border=\"1\" class=\"dataframe\">\n",
       "  <thead>\n",
       "    <tr style=\"text-align: right;\">\n",
       "      <th></th>\n",
       "      <th>vh</th>\n",
       "      <th>vv</th>\n",
       "    </tr>\n",
       "  </thead>\n",
       "  <tbody>\n",
       "    <tr>\n",
       "      <th>0</th>\n",
       "      <td>0.024609</td>\n",
       "      <td>0.501586</td>\n",
       "    </tr>\n",
       "    <tr>\n",
       "      <th>1</th>\n",
       "      <td>0.006429</td>\n",
       "      <td>0.041601</td>\n",
       "    </tr>\n",
       "    <tr>\n",
       "      <th>2</th>\n",
       "      <td>0.026099</td>\n",
       "      <td>0.142201</td>\n",
       "    </tr>\n",
       "    <tr>\n",
       "      <th>3</th>\n",
       "      <td>0.004037</td>\n",
       "      <td>0.009916</td>\n",
       "    </tr>\n",
       "    <tr>\n",
       "      <th>4</th>\n",
       "      <td>0.023141</td>\n",
       "      <td>0.254619</td>\n",
       "    </tr>\n",
       "  </tbody>\n",
       "</table>\n",
       "</div>"
      ],
      "text/plain": [
       "         vh        vv\n",
       "0  0.024609  0.501586\n",
       "1  0.006429  0.041601\n",
       "2  0.026099  0.142201\n",
       "3  0.004037  0.009916\n",
       "4  0.023141  0.254619"
      ]
     },
     "execution_count": 20,
     "metadata": {},
     "output_type": "execute_result"
    }
   ],
   "source": [
    "submission_vh_vv_data.head()"
   ]
  },
  {
   "cell_type": "code",
   "execution_count": 21,
   "id": "2cb45aca-974a-41e1-a522-36ca202d9af5",
   "metadata": {},
   "outputs": [],
   "source": [
    "# Feature Scaling \n",
    "submission_vh_vv_data = submission_vh_vv_data.values\n",
    "transformed_submission_data = sc.transform(submission_vh_vv_data)"
   ]
  },
  {
   "cell_type": "code",
   "execution_count": 22,
   "id": "ecc34e3a-bfc1-49a0-94bb-ee1e540abe98",
   "metadata": {},
   "outputs": [],
   "source": [
    "#Making predictions\n",
    "final_predictions = model.predict(transformed_submission_data)\n",
    "final_prediction_series = pd.Series(final_predictions)"
   ]
  },
  {
   "cell_type": "code",
   "execution_count": 23,
   "id": "0375e4cd-fdb0-4b82-8508-6ff022061cf9",
   "metadata": {},
   "outputs": [],
   "source": [
    "#Combining the results into dataframe\n",
    "submission_df = pd.DataFrame({'id':test_file['id'].values, 'target':final_prediction_series.values})"
   ]
  },
  {
   "cell_type": "code",
   "execution_count": 24,
   "id": "1a1a563b-c0ed-4e2c-a7fe-08ad59cf1626",
   "metadata": {},
   "outputs": [
    {
     "data": {
      "text/html": [
       "<div>\n",
       "<style scoped>\n",
       "    .dataframe tbody tr th:only-of-type {\n",
       "        vertical-align: middle;\n",
       "    }\n",
       "\n",
       "    .dataframe tbody tr th {\n",
       "        vertical-align: top;\n",
       "    }\n",
       "\n",
       "    .dataframe thead th {\n",
       "        text-align: right;\n",
       "    }\n",
       "</style>\n",
       "<table border=\"1\" class=\"dataframe\">\n",
       "  <thead>\n",
       "    <tr style=\"text-align: right;\">\n",
       "      <th></th>\n",
       "      <th>id</th>\n",
       "      <th>target</th>\n",
       "    </tr>\n",
       "  </thead>\n",
       "  <tbody>\n",
       "    <tr>\n",
       "      <th>0</th>\n",
       "      <td>(10.18019073690894, 105.32022315786804)</td>\n",
       "      <td>Rice</td>\n",
       "    </tr>\n",
       "    <tr>\n",
       "      <th>1</th>\n",
       "      <td>(10.561107033461816, 105.12772097986661)</td>\n",
       "      <td>Rice</td>\n",
       "    </tr>\n",
       "    <tr>\n",
       "      <th>2</th>\n",
       "      <td>(10.623790611954897, 105.13771401411867)</td>\n",
       "      <td>Rice</td>\n",
       "    </tr>\n",
       "    <tr>\n",
       "      <th>3</th>\n",
       "      <td>(10.583364246115156, 105.23946127195805)</td>\n",
       "      <td>Rice</td>\n",
       "    </tr>\n",
       "    <tr>\n",
       "      <th>4</th>\n",
       "      <td>(10.20744446668854, 105.26844107128906)</td>\n",
       "      <td>Rice</td>\n",
       "    </tr>\n",
       "    <tr>\n",
       "      <th>...</th>\n",
       "      <td>...</td>\n",
       "      <td>...</td>\n",
       "    </tr>\n",
       "    <tr>\n",
       "      <th>245</th>\n",
       "      <td>(10.308283266873062, 105.50872812216863)</td>\n",
       "      <td>Rice</td>\n",
       "    </tr>\n",
       "    <tr>\n",
       "      <th>246</th>\n",
       "      <td>(10.582910017285496, 105.23991550078767)</td>\n",
       "      <td>Rice</td>\n",
       "    </tr>\n",
       "    <tr>\n",
       "      <th>247</th>\n",
       "      <td>(10.581547330796518, 105.23991550078767)</td>\n",
       "      <td>Rice</td>\n",
       "    </tr>\n",
       "    <tr>\n",
       "      <th>248</th>\n",
       "      <td>(10.629241357910818, 105.15315779432643)</td>\n",
       "      <td>Rice</td>\n",
       "    </tr>\n",
       "    <tr>\n",
       "      <th>249</th>\n",
       "      <td>(10.574733898351617, 105.10410108072531)</td>\n",
       "      <td>Rice</td>\n",
       "    </tr>\n",
       "  </tbody>\n",
       "</table>\n",
       "<p>250 rows × 2 columns</p>\n",
       "</div>"
      ],
      "text/plain": [
       "                                           id target\n",
       "0     (10.18019073690894, 105.32022315786804)   Rice\n",
       "1    (10.561107033461816, 105.12772097986661)   Rice\n",
       "2    (10.623790611954897, 105.13771401411867)   Rice\n",
       "3    (10.583364246115156, 105.23946127195805)   Rice\n",
       "4     (10.20744446668854, 105.26844107128906)   Rice\n",
       "..                                        ...    ...\n",
       "245  (10.308283266873062, 105.50872812216863)   Rice\n",
       "246  (10.582910017285496, 105.23991550078767)   Rice\n",
       "247  (10.581547330796518, 105.23991550078767)   Rice\n",
       "248  (10.629241357910818, 105.15315779432643)   Rice\n",
       "249  (10.574733898351617, 105.10410108072531)   Rice\n",
       "\n",
       "[250 rows x 2 columns]"
      ]
     },
     "metadata": {},
     "output_type": "display_data"
    }
   ],
   "source": [
    "#Displaying the sample submission dataframe\n",
    "display(submission_df)"
   ]
  },
  {
   "cell_type": "code",
   "execution_count": 25,
   "id": "2fcec864-4da3-41e7-80da-b77e42a9d810",
   "metadata": {},
   "outputs": [],
   "source": [
    "#Dumping the predictions into a csv file.\n",
    "submission_df.to_csv(\"challenge_1_submission_rice_crop_prediction.csv\",index = False)"
   ]
  },
  {
   "cell_type": "markdown",
   "id": "094c2fba-5ecb-4ea5-a4a5-1fd6a74952cc",
   "metadata": {},
   "source": [
    "## Minhas Mudanças"
   ]
  },
  {
   "cell_type": "code",
   "execution_count": 26,
   "id": "a61ba215-1d86-433f-a13b-97fa6b711941",
   "metadata": {},
   "outputs": [
    {
     "name": "stderr",
     "output_type": "stream",
     "text": [
      "100%|██████████| 250/250 [00:54<00:00,  4.57it/s]\n"
     ]
    }
   ],
   "source": [
    "## Get Sentinel-1-RTC Data\n",
    "time_slice = \"2021-12-01/2022-04-3\"\n",
    "assests = ['vh','vv']\n",
    "vh_vv = []\n",
    "for coordinates in tqdm(test_file['id']):\n",
    "    vh_vv.append(get_sentinel_data(coordinates,time_slice,assests))\n",
    "submission_vh_vv_data = pd.DataFrame(vh_vv,columns =['vh','vv'])"
   ]
  },
  {
   "cell_type": "code",
   "execution_count": 27,
   "id": "12ac2f63-d232-4a0c-a99f-05f7dae8d85a",
   "metadata": {},
   "outputs": [
    {
     "data": {
      "text/html": [
       "<div>\n",
       "<style scoped>\n",
       "    .dataframe tbody tr th:only-of-type {\n",
       "        vertical-align: middle;\n",
       "    }\n",
       "\n",
       "    .dataframe tbody tr th {\n",
       "        vertical-align: top;\n",
       "    }\n",
       "\n",
       "    .dataframe thead th {\n",
       "        text-align: right;\n",
       "    }\n",
       "</style>\n",
       "<table border=\"1\" class=\"dataframe\">\n",
       "  <thead>\n",
       "    <tr style=\"text-align: right;\">\n",
       "      <th></th>\n",
       "      <th>vh</th>\n",
       "      <th>vv</th>\n",
       "      <th>Class of Land</th>\n",
       "      <th>RVI</th>\n",
       "    </tr>\n",
       "  </thead>\n",
       "  <tbody>\n",
       "    <tr>\n",
       "      <th>0</th>\n",
       "      <td>0.007890</td>\n",
       "      <td>0.363590</td>\n",
       "      <td>Rice</td>\n",
       "      <td>0.012381</td>\n",
       "    </tr>\n",
       "    <tr>\n",
       "      <th>1</th>\n",
       "      <td>0.020705</td>\n",
       "      <td>0.593416</td>\n",
       "      <td>Rice</td>\n",
       "      <td>0.024763</td>\n",
       "    </tr>\n",
       "    <tr>\n",
       "      <th>2</th>\n",
       "      <td>0.014665</td>\n",
       "      <td>0.539215</td>\n",
       "      <td>Rice</td>\n",
       "      <td>0.017233</td>\n",
       "    </tr>\n",
       "    <tr>\n",
       "      <th>3</th>\n",
       "      <td>0.019545</td>\n",
       "      <td>0.404909</td>\n",
       "      <td>Rice</td>\n",
       "      <td>0.039525</td>\n",
       "    </tr>\n",
       "    <tr>\n",
       "      <th>4</th>\n",
       "      <td>0.007235</td>\n",
       "      <td>0.467683</td>\n",
       "      <td>Rice</td>\n",
       "      <td>0.007521</td>\n",
       "    </tr>\n",
       "  </tbody>\n",
       "</table>\n",
       "</div>"
      ],
      "text/plain": [
       "         vh        vv Class of Land       RVI\n",
       "0  0.007890  0.363590          Rice  0.012381\n",
       "1  0.020705  0.593416          Rice  0.024763\n",
       "2  0.014665  0.539215          Rice  0.017233\n",
       "3  0.019545  0.404909          Rice  0.039525\n",
       "4  0.007235  0.467683          Rice  0.007521"
      ]
     },
     "execution_count": 27,
     "metadata": {},
     "output_type": "execute_result"
    }
   ],
   "source": [
    "# Load your VV and VH data into numpy arrays\n",
    "vv = np.array(crop_data['vv'])\n",
    "vh = np.array(crop_data['vh'])\n",
    "\n",
    "# Calculate NDVI\n",
    "RVI = np.sqrt(1- vv / (vv+vh)) * 4 * (vh / (vv + vh))\n",
    "crop_data['RVI'] = RVI\n",
    "crop_data.head()"
   ]
  },
  {
   "cell_type": "code",
   "execution_count": 28,
   "id": "b99443eb-8b03-4809-b80f-af5260bbcd0d",
   "metadata": {},
   "outputs": [
    {
     "data": {
      "text/html": [
       "<div>\n",
       "<style scoped>\n",
       "    .dataframe tbody tr th:only-of-type {\n",
       "        vertical-align: middle;\n",
       "    }\n",
       "\n",
       "    .dataframe tbody tr th {\n",
       "        vertical-align: top;\n",
       "    }\n",
       "\n",
       "    .dataframe thead th {\n",
       "        text-align: right;\n",
       "    }\n",
       "</style>\n",
       "<table border=\"1\" class=\"dataframe\">\n",
       "  <thead>\n",
       "    <tr style=\"text-align: right;\">\n",
       "      <th></th>\n",
       "      <th>vh</th>\n",
       "      <th>vv</th>\n",
       "      <th>Class of Land</th>\n",
       "      <th>RVI</th>\n",
       "    </tr>\n",
       "  </thead>\n",
       "  <tbody>\n",
       "    <tr>\n",
       "      <th>0</th>\n",
       "      <td>0.007890</td>\n",
       "      <td>0.363590</td>\n",
       "      <td>1</td>\n",
       "      <td>0.012381</td>\n",
       "    </tr>\n",
       "    <tr>\n",
       "      <th>1</th>\n",
       "      <td>0.020705</td>\n",
       "      <td>0.593416</td>\n",
       "      <td>1</td>\n",
       "      <td>0.024763</td>\n",
       "    </tr>\n",
       "    <tr>\n",
       "      <th>2</th>\n",
       "      <td>0.014665</td>\n",
       "      <td>0.539215</td>\n",
       "      <td>1</td>\n",
       "      <td>0.017233</td>\n",
       "    </tr>\n",
       "    <tr>\n",
       "      <th>3</th>\n",
       "      <td>0.019545</td>\n",
       "      <td>0.404909</td>\n",
       "      <td>1</td>\n",
       "      <td>0.039525</td>\n",
       "    </tr>\n",
       "    <tr>\n",
       "      <th>4</th>\n",
       "      <td>0.007235</td>\n",
       "      <td>0.467683</td>\n",
       "      <td>1</td>\n",
       "      <td>0.007521</td>\n",
       "    </tr>\n",
       "  </tbody>\n",
       "</table>\n",
       "</div>"
      ],
      "text/plain": [
       "         vh        vv  Class of Land       RVI\n",
       "0  0.007890  0.363590              1  0.012381\n",
       "1  0.020705  0.593416              1  0.024763\n",
       "2  0.014665  0.539215              1  0.017233\n",
       "3  0.019545  0.404909              1  0.039525\n",
       "4  0.007235  0.467683              1  0.007521"
      ]
     },
     "execution_count": 28,
     "metadata": {},
     "output_type": "execute_result"
    }
   ],
   "source": [
    "from sklearn.preprocessing import StandardScaler, LabelEncoder\n",
    "#Encoder\n",
    "le = LabelEncoder()\n",
    "le.fit(crop_data['Class of Land'])\n",
    "crop_data['Class of Land'] = le.transform(crop_data['Class of Land'])\n",
    "crop_data.head()"
   ]
  },
  {
   "cell_type": "code",
   "execution_count": 29,
   "id": "0a31810b-4b96-4d20-989d-f6c985fc7aa8",
   "metadata": {},
   "outputs": [],
   "source": [
    "X = crop_data.drop(columns=['Class of Land']).values\n",
    "y = crop_data['Class of Land'].values\n",
    "X_train, X_test, y_train, y_test = train_test_split(X, y, test_size=0.3,stratify=y,random_state=40)"
   ]
  },
  {
   "cell_type": "code",
   "execution_count": 30,
   "id": "165702c9-4ae9-4541-b923-3ac57fea88a2",
   "metadata": {},
   "outputs": [],
   "source": [
    "sc = StandardScaler()\n",
    "X_train = sc.fit_transform(X_train)\n",
    "X_test = sc.transform(X_test)"
   ]
  },
  {
   "cell_type": "code",
   "execution_count": 31,
   "id": "f6f7b3e7-8e08-4cee-a8fa-88f5df99cb73",
   "metadata": {},
   "outputs": [],
   "source": [
    "# Define an objective function for Optuna to optimize\n",
    "def objective(trial):\n",
    "    # Define the hyperparameters to search over\n",
    "    C = trial.suggest_loguniform('C', 1e-4, 1e4)\n",
    "    solver = trial.suggest_categorical('solver', ['newton-cg', 'lbfgs', 'liblinear', 'sag', 'saga'])\n",
    "    max_iter = trial.suggest_int('max_iter', 100, 1000)\n",
    "\n",
    "    # Create an instance of the LogisticRegression classifier with the hyperparameters to search over\n",
    "    clf = LogisticRegression(C=C, solver=solver, max_iter=max_iter, random_state=42)\n",
    "    \n",
    "    # Split the data into training and validation sets\n",
    "    X_train, X_valid, y_train, y_valid = train_test_split(X, y, test_size=0.2, random_state=42)\n",
    "    X_train = sc.fit_transform(X_train)\n",
    "    X_valid = sc.transform(X_valid)\n",
    "    \n",
    "    \n",
    "    # Fit the classifier to the training data\n",
    "    clf.fit(X_train, y_train)\n",
    "    \n",
    "    # Make predictions on the validation set\n",
    "    y_pred = clf.predict(X_valid)\n",
    "    \n",
    "    # Compute the accuracy score on the validation set\n",
    "    score = accuracy_score(y_valid, y_pred)\n",
    "    \n",
    "    return score"
   ]
  },
  {
   "cell_type": "code",
   "execution_count": 32,
   "id": "2e885ac9-e374-4f83-b1f1-12cd87809ea9",
   "metadata": {
    "tags": []
   },
   "outputs": [
    {
     "name": "stderr",
     "output_type": "stream",
     "text": [
      "\u001b[32m[I 2023-03-20 19:01:31,870]\u001b[0m A new study created in memory with name: no-name-d1a15468-f48f-4b10-a420-724e31d51e5c\u001b[0m\n",
      "\u001b[32m[I 2023-03-20 19:01:31,877]\u001b[0m Trial 0 finished with value: 0.7166666666666667 and parameters: {'C': 307.6982874274656, 'solver': 'lbfgs', 'max_iter': 899}. Best is trial 0 with value: 0.7166666666666667.\u001b[0m\n",
      "\u001b[32m[I 2023-03-20 19:01:31,882]\u001b[0m Trial 1 finished with value: 0.7166666666666667 and parameters: {'C': 5867.448226088089, 'solver': 'sag', 'max_iter': 703}. Best is trial 0 with value: 0.7166666666666667.\u001b[0m\n",
      "\u001b[32m[I 2023-03-20 19:01:31,890]\u001b[0m Trial 2 finished with value: 0.7166666666666667 and parameters: {'C': 3.7175266775527884, 'solver': 'newton-cg', 'max_iter': 934}. Best is trial 0 with value: 0.7166666666666667.\u001b[0m\n",
      "\u001b[32m[I 2023-03-20 19:01:31,897]\u001b[0m Trial 3 finished with value: 0.7166666666666667 and parameters: {'C': 3.40906559808016, 'solver': 'newton-cg', 'max_iter': 952}. Best is trial 0 with value: 0.7166666666666667.\u001b[0m\n",
      "\u001b[32m[I 2023-03-20 19:01:31,902]\u001b[0m Trial 4 finished with value: 0.7 and parameters: {'C': 0.5940461799284177, 'solver': 'lbfgs', 'max_iter': 589}. Best is trial 0 with value: 0.7166666666666667.\u001b[0m\n",
      "\u001b[32m[I 2023-03-20 19:01:31,907]\u001b[0m Trial 5 finished with value: 0.7166666666666667 and parameters: {'C': 137.7455363097572, 'solver': 'sag', 'max_iter': 522}. Best is trial 0 with value: 0.7166666666666667.\u001b[0m\n",
      "\u001b[32m[I 2023-03-20 19:01:31,911]\u001b[0m Trial 6 finished with value: 0.6583333333333333 and parameters: {'C': 0.32120992368761403, 'solver': 'liblinear', 'max_iter': 926}. Best is trial 0 with value: 0.7166666666666667.\u001b[0m\n",
      "\u001b[32m[I 2023-03-20 19:01:31,919]\u001b[0m Trial 7 finished with value: 0.7 and parameters: {'C': 0.8491317334533602, 'solver': 'newton-cg', 'max_iter': 833}. Best is trial 0 with value: 0.7166666666666667.\u001b[0m\n",
      "\u001b[32m[I 2023-03-20 19:01:31,923]\u001b[0m Trial 8 finished with value: 0.7166666666666667 and parameters: {'C': 168.94981007401043, 'solver': 'saga', 'max_iter': 365}. Best is trial 0 with value: 0.7166666666666667.\u001b[0m\n",
      "\u001b[32m[I 2023-03-20 19:01:31,928]\u001b[0m Trial 9 finished with value: 0.55 and parameters: {'C': 0.00037858635282814147, 'solver': 'lbfgs', 'max_iter': 630}. Best is trial 0 with value: 0.7166666666666667.\u001b[0m\n",
      "\u001b[32m[I 2023-03-20 19:01:31,942]\u001b[0m Trial 10 finished with value: 0.7166666666666667 and parameters: {'C': 5381.028100869477, 'solver': 'lbfgs', 'max_iter': 106}. Best is trial 0 with value: 0.7166666666666667.\u001b[0m\n",
      "\u001b[32m[I 2023-03-20 19:01:31,954]\u001b[0m Trial 11 finished with value: 0.7166666666666667 and parameters: {'C': 6760.247338185703, 'solver': 'sag', 'max_iter': 718}. Best is trial 0 with value: 0.7166666666666667.\u001b[0m\n",
      "\u001b[32m[I 2023-03-20 19:01:31,967]\u001b[0m Trial 12 finished with value: 0.7166666666666667 and parameters: {'C': 459.9959278352521, 'solver': 'sag', 'max_iter': 766}. Best is trial 0 with value: 0.7166666666666667.\u001b[0m\n",
      "\u001b[32m[I 2023-03-20 19:01:31,978]\u001b[0m Trial 13 finished with value: 0.7166666666666667 and parameters: {'C': 8047.367065933761, 'solver': 'liblinear', 'max_iter': 443}. Best is trial 0 with value: 0.7166666666666667.\u001b[0m\n",
      "\u001b[32m[I 2023-03-20 19:01:31,990]\u001b[0m Trial 14 finished with value: 0.7166666666666667 and parameters: {'C': 558.6996776970273, 'solver': 'saga', 'max_iter': 785}. Best is trial 0 with value: 0.7166666666666667.\u001b[0m\n",
      "\u001b[32m[I 2023-03-20 19:01:32,003]\u001b[0m Trial 15 finished with value: 0.7166666666666667 and parameters: {'C': 39.497654054409864, 'solver': 'lbfgs', 'max_iter': 677}. Best is trial 0 with value: 0.7166666666666667.\u001b[0m\n",
      "\u001b[32m[I 2023-03-20 19:01:32,020]\u001b[0m Trial 16 finished with value: 0.7166666666666667 and parameters: {'C': 1324.8001344436755, 'solver': 'sag', 'max_iter': 841}. Best is trial 0 with value: 0.7166666666666667.\u001b[0m\n",
      "\u001b[32m[I 2023-03-20 19:01:32,034]\u001b[0m Trial 17 finished with value: 0.7166666666666667 and parameters: {'C': 31.426454316051725, 'solver': 'sag', 'max_iter': 355}. Best is trial 0 with value: 0.7166666666666667.\u001b[0m\n",
      "\u001b[32m[I 2023-03-20 19:01:32,048]\u001b[0m Trial 18 finished with value: 0.7166666666666667 and parameters: {'C': 2773.655211763221, 'solver': 'lbfgs', 'max_iter': 995}. Best is trial 0 with value: 0.7166666666666667.\u001b[0m\n",
      "\u001b[32m[I 2023-03-20 19:01:32,062]\u001b[0m Trial 19 finished with value: 0.7166666666666667 and parameters: {'C': 1263.8037433971479, 'solver': 'liblinear', 'max_iter': 145}. Best is trial 0 with value: 0.7166666666666667.\u001b[0m\n",
      "\u001b[32m[I 2023-03-20 19:01:32,076]\u001b[0m Trial 20 finished with value: 0.7166666666666667 and parameters: {'C': 7419.934633828893, 'solver': 'saga', 'max_iter': 506}. Best is trial 0 with value: 0.7166666666666667.\u001b[0m\n",
      "\u001b[32m[I 2023-03-20 19:01:32,093]\u001b[0m Trial 21 finished with value: 0.7166666666666667 and parameters: {'C': 8.551484959242643, 'solver': 'newton-cg', 'max_iter': 879}. Best is trial 0 with value: 0.7166666666666667.\u001b[0m\n",
      "\u001b[32m[I 2023-03-20 19:01:32,110]\u001b[0m Trial 22 finished with value: 0.7166666666666667 and parameters: {'C': 160.61150942315746, 'solver': 'newton-cg', 'max_iter': 889}. Best is trial 0 with value: 0.7166666666666667.\u001b[0m\n",
      "\u001b[32m[I 2023-03-20 19:01:32,126]\u001b[0m Trial 23 finished with value: 0.7166666666666667 and parameters: {'C': 1033.963605407105, 'solver': 'newton-cg', 'max_iter': 745}. Best is trial 0 with value: 0.7166666666666667.\u001b[0m\n",
      "\u001b[32m[I 2023-03-20 19:01:32,140]\u001b[0m Trial 24 finished with value: 0.7166666666666667 and parameters: {'C': 21.52322693550836, 'solver': 'lbfgs', 'max_iter': 968}. Best is trial 0 with value: 0.7166666666666667.\u001b[0m\n",
      "\u001b[32m[I 2023-03-20 19:01:32,156]\u001b[0m Trial 25 finished with value: 0.7083333333333334 and parameters: {'C': 3.193846914615934, 'solver': 'newton-cg', 'max_iter': 816}. Best is trial 0 with value: 0.7166666666666667.\u001b[0m\n",
      "\u001b[32m[I 2023-03-20 19:01:32,169]\u001b[0m Trial 26 finished with value: 0.7166666666666667 and parameters: {'C': 220.75658853456724, 'solver': 'sag', 'max_iter': 671}. Best is trial 0 with value: 0.7166666666666667.\u001b[0m\n",
      "\u001b[32m[I 2023-03-20 19:01:32,186]\u001b[0m Trial 27 finished with value: 0.7166666666666667 and parameters: {'C': 2313.3088917888153, 'solver': 'lbfgs', 'max_iter': 911}. Best is trial 0 with value: 0.7166666666666667.\u001b[0m\n",
      "\u001b[32m[I 2023-03-20 19:01:32,206]\u001b[0m Trial 28 finished with value: 0.65 and parameters: {'C': 0.1456294683409886, 'solver': 'newton-cg', 'max_iter': 997}. Best is trial 0 with value: 0.7166666666666667.\u001b[0m\n",
      "\u001b[32m[I 2023-03-20 19:01:32,222]\u001b[0m Trial 29 finished with value: 0.7166666666666667 and parameters: {'C': 3.399801801028702, 'solver': 'sag', 'max_iter': 706}. Best is trial 0 with value: 0.7166666666666667.\u001b[0m\n",
      "\u001b[32m[I 2023-03-20 19:01:32,241]\u001b[0m Trial 30 finished with value: 0.7166666666666667 and parameters: {'C': 63.74061967035284, 'solver': 'newton-cg', 'max_iter': 876}. Best is trial 0 with value: 0.7166666666666667.\u001b[0m\n",
      "\u001b[32m[I 2023-03-20 19:01:32,260]\u001b[0m Trial 31 finished with value: 0.7166666666666667 and parameters: {'C': 6.890669734011372, 'solver': 'newton-cg', 'max_iter': 580}. Best is trial 0 with value: 0.7166666666666667.\u001b[0m\n",
      "\u001b[32m[I 2023-03-20 19:01:32,276]\u001b[0m Trial 32 finished with value: 0.7166666666666667 and parameters: {'C': 310.805942350291, 'solver': 'newton-cg', 'max_iter': 922}. Best is trial 0 with value: 0.7166666666666667.\u001b[0m\n",
      "\u001b[32m[I 2023-03-20 19:01:32,293]\u001b[0m Trial 33 finished with value: 0.675 and parameters: {'C': 0.36815338981102114, 'solver': 'newton-cg', 'max_iter': 941}. Best is trial 0 with value: 0.7166666666666667.\u001b[0m\n",
      "\u001b[32m[I 2023-03-20 19:01:32,306]\u001b[0m Trial 34 finished with value: 0.7166666666666667 and parameters: {'C': 72.78696302877347, 'solver': 'liblinear', 'max_iter': 823}. Best is trial 0 with value: 0.7166666666666667.\u001b[0m\n",
      "\u001b[32m[I 2023-03-20 19:01:32,320]\u001b[0m Trial 35 finished with value: 0.7 and parameters: {'C': 1.4383810993614794, 'solver': 'lbfgs', 'max_iter': 947}. Best is trial 0 with value: 0.7166666666666667.\u001b[0m\n",
      "\u001b[32m[I 2023-03-20 19:01:32,334]\u001b[0m Trial 36 finished with value: 0.65 and parameters: {'C': 0.14186932236077204, 'solver': 'saga', 'max_iter': 627}. Best is trial 0 with value: 0.7166666666666667.\u001b[0m\n",
      "\u001b[32m[I 2023-03-20 19:01:32,352]\u001b[0m Trial 37 finished with value: 0.7166666666666667 and parameters: {'C': 15.115600713557582, 'solver': 'newton-cg', 'max_iter': 848}. Best is trial 0 with value: 0.7166666666666667.\u001b[0m\n",
      "\u001b[32m[I 2023-03-20 19:01:32,366]\u001b[0m Trial 38 finished with value: 0.7166666666666667 and parameters: {'C': 173.93773629961134, 'solver': 'sag', 'max_iter': 777}. Best is trial 0 with value: 0.7166666666666667.\u001b[0m\n",
      "\u001b[32m[I 2023-03-20 19:01:32,381]\u001b[0m Trial 39 finished with value: 0.7166666666666667 and parameters: {'C': 684.6016800852105, 'solver': 'lbfgs', 'max_iter': 242}. Best is trial 0 with value: 0.7166666666666667.\u001b[0m\n",
      "\u001b[32m[I 2023-03-20 19:01:32,396]\u001b[0m Trial 40 finished with value: 0.7166666666666667 and parameters: {'C': 3055.7828321977836, 'solver': 'liblinear', 'max_iter': 483}. Best is trial 0 with value: 0.7166666666666667.\u001b[0m\n",
      "\u001b[32m[I 2023-03-20 19:01:32,411]\u001b[0m Trial 41 finished with value: 0.7166666666666667 and parameters: {'C': 118.99647875862532, 'solver': 'sag', 'max_iter': 412}. Best is trial 0 with value: 0.7166666666666667.\u001b[0m\n",
      "\u001b[32m[I 2023-03-20 19:01:32,426]\u001b[0m Trial 42 finished with value: 0.7166666666666667 and parameters: {'C': 447.55781746788955, 'solver': 'sag', 'max_iter': 596}. Best is trial 0 with value: 0.7166666666666667.\u001b[0m\n",
      "\u001b[32m[I 2023-03-20 19:01:32,440]\u001b[0m Trial 43 finished with value: 0.7166666666666667 and parameters: {'C': 50.58931537765325, 'solver': 'sag', 'max_iter': 525}. Best is trial 0 with value: 0.7166666666666667.\u001b[0m\n",
      "\u001b[32m[I 2023-03-20 19:01:32,455]\u001b[0m Trial 44 finished with value: 0.7166666666666667 and parameters: {'C': 15.478161105942128, 'solver': 'sag', 'max_iter': 360}. Best is trial 0 with value: 0.7166666666666667.\u001b[0m\n",
      "\u001b[32m[I 2023-03-20 19:01:32,470]\u001b[0m Trial 45 finished with value: 0.7166666666666667 and parameters: {'C': 2927.041945034933, 'solver': 'saga', 'max_iter': 548}. Best is trial 0 with value: 0.7166666666666667.\u001b[0m\n",
      "\u001b[32m[I 2023-03-20 19:01:32,486]\u001b[0m Trial 46 finished with value: 0.7166666666666667 and parameters: {'C': 502.2889793955902, 'solver': 'sag', 'max_iter': 799}. Best is trial 0 with value: 0.7166666666666667.\u001b[0m\n",
      "\u001b[32m[I 2023-03-20 19:01:32,504]\u001b[0m Trial 47 finished with value: 0.7166666666666667 and parameters: {'C': 6512.583898560878, 'solver': 'lbfgs', 'max_iter': 666}. Best is trial 0 with value: 0.7166666666666667.\u001b[0m\n",
      "\u001b[32m[I 2023-03-20 19:01:32,523]\u001b[0m Trial 48 finished with value: 0.7166666666666667 and parameters: {'C': 1016.8983515222603, 'solver': 'newton-cg', 'max_iter': 724}. Best is trial 0 with value: 0.7166666666666667.\u001b[0m\n",
      "\u001b[32m[I 2023-03-20 19:01:32,541]\u001b[0m Trial 49 finished with value: 0.7166666666666667 and parameters: {'C': 274.2851475819852, 'solver': 'sag', 'max_iter': 972}. Best is trial 0 with value: 0.7166666666666667.\u001b[0m\n",
      "\u001b[32m[I 2023-03-20 19:01:32,558]\u001b[0m Trial 50 finished with value: 0.7166666666666667 and parameters: {'C': 9727.347021546799, 'solver': 'lbfgs', 'max_iter': 859}. Best is trial 0 with value: 0.7166666666666667.\u001b[0m\n",
      "\u001b[32m[I 2023-03-20 19:01:32,575]\u001b[0m Trial 51 finished with value: 0.7166666666666667 and parameters: {'C': 97.00327742925225, 'solver': 'saga', 'max_iter': 263}. Best is trial 0 with value: 0.7166666666666667.\u001b[0m\n",
      "\u001b[32m[I 2023-03-20 19:01:32,594]\u001b[0m Trial 52 finished with value: 0.7166666666666667 and parameters: {'C': 31.08296288101619, 'solver': 'saga', 'max_iter': 431}. Best is trial 0 with value: 0.7166666666666667.\u001b[0m\n",
      "\u001b[32m[I 2023-03-20 19:01:32,610]\u001b[0m Trial 53 finished with value: 0.7166666666666667 and parameters: {'C': 1280.9996993394082, 'solver': 'saga', 'max_iter': 293}. Best is trial 0 with value: 0.7166666666666667.\u001b[0m\n",
      "\u001b[32m[I 2023-03-20 19:01:32,626]\u001b[0m Trial 54 finished with value: 0.7166666666666667 and parameters: {'C': 104.79072693689662, 'solver': 'saga', 'max_iter': 464}. Best is trial 0 with value: 0.7166666666666667.\u001b[0m\n",
      "\u001b[32m[I 2023-03-20 19:01:32,641]\u001b[0m Trial 55 finished with value: 0.7166666666666667 and parameters: {'C': 40.09885005020134, 'solver': 'liblinear', 'max_iter': 908}. Best is trial 0 with value: 0.7166666666666667.\u001b[0m\n",
      "\u001b[32m[I 2023-03-20 19:01:32,660]\u001b[0m Trial 56 finished with value: 0.7166666666666667 and parameters: {'C': 383.0344675199994, 'solver': 'newton-cg', 'max_iter': 400}. Best is trial 0 with value: 0.7166666666666667.\u001b[0m\n",
      "\u001b[32m[I 2023-03-20 19:01:32,677]\u001b[0m Trial 57 finished with value: 0.7166666666666667 and parameters: {'C': 1904.6167008138534, 'solver': 'sag', 'max_iter': 348}. Best is trial 0 with value: 0.7166666666666667.\u001b[0m\n",
      "\u001b[32m[I 2023-03-20 19:01:32,695]\u001b[0m Trial 58 finished with value: 0.7166666666666667 and parameters: {'C': 198.70083677153866, 'solver': 'lbfgs', 'max_iter': 201}. Best is trial 0 with value: 0.7166666666666667.\u001b[0m\n",
      "\u001b[32m[I 2023-03-20 19:01:32,715]\u001b[0m Trial 59 finished with value: 0.7166666666666667 and parameters: {'C': 4263.7506775051015, 'solver': 'newton-cg', 'max_iter': 888}. Best is trial 0 with value: 0.7166666666666667.\u001b[0m\n",
      "\u001b[32m[I 2023-03-20 19:01:32,731]\u001b[0m Trial 60 finished with value: 0.7166666666666667 and parameters: {'C': 5088.322647147584, 'solver': 'saga', 'max_iter': 632}. Best is trial 0 with value: 0.7166666666666667.\u001b[0m\n",
      "\u001b[32m[I 2023-03-20 19:01:32,749]\u001b[0m Trial 61 finished with value: 0.7166666666666667 and parameters: {'C': 762.6236689046651, 'solver': 'lbfgs', 'max_iter': 181}. Best is trial 0 with value: 0.7166666666666667.\u001b[0m\n",
      "\u001b[32m[I 2023-03-20 19:01:32,768]\u001b[0m Trial 62 finished with value: 0.7166666666666667 and parameters: {'C': 1835.5364298185552, 'solver': 'lbfgs', 'max_iter': 316}. Best is trial 0 with value: 0.7166666666666667.\u001b[0m\n",
      "\u001b[32m[I 2023-03-20 19:01:32,787]\u001b[0m Trial 63 finished with value: 0.7166666666666667 and parameters: {'C': 5539.71391716546, 'solver': 'lbfgs', 'max_iter': 1000}. Best is trial 0 with value: 0.7166666666666667.\u001b[0m\n",
      "\u001b[32m[I 2023-03-20 19:01:32,806]\u001b[0m Trial 64 finished with value: 0.7166666666666667 and parameters: {'C': 581.4014611026186, 'solver': 'lbfgs', 'max_iter': 955}. Best is trial 0 with value: 0.7166666666666667.\u001b[0m\n",
      "\u001b[32m[I 2023-03-20 19:01:32,827]\u001b[0m Trial 65 finished with value: 0.7166666666666667 and parameters: {'C': 2560.5925574225107, 'solver': 'newton-cg', 'max_iter': 132}. Best is trial 0 with value: 0.7166666666666667.\u001b[0m\n",
      "\u001b[32m[I 2023-03-20 19:01:32,844]\u001b[0m Trial 66 finished with value: 0.7166666666666667 and parameters: {'C': 9826.481078545414, 'solver': 'sag', 'max_iter': 747}. Best is trial 0 with value: 0.7166666666666667.\u001b[0m\n",
      "\u001b[32m[I 2023-03-20 19:01:32,865]\u001b[0m Trial 67 finished with value: 0.7166666666666667 and parameters: {'C': 1262.5711070729944, 'solver': 'newton-cg', 'max_iter': 104}. Best is trial 0 with value: 0.7166666666666667.\u001b[0m\n",
      "\u001b[32m[I 2023-03-20 19:01:32,883]\u001b[0m Trial 68 finished with value: 0.7166666666666667 and parameters: {'C': 240.45284831839086, 'solver': 'liblinear', 'max_iter': 693}. Best is trial 0 with value: 0.7166666666666667.\u001b[0m\n",
      "\u001b[32m[I 2023-03-20 19:01:32,902]\u001b[0m Trial 69 finished with value: 0.7166666666666667 and parameters: {'C': 6.243222251205271, 'solver': 'lbfgs', 'max_iter': 812}. Best is trial 0 with value: 0.7166666666666667.\u001b[0m\n",
      "\u001b[32m[I 2023-03-20 19:01:32,921]\u001b[0m Trial 70 finished with value: 0.7166666666666667 and parameters: {'C': 23.392982349834753, 'solver': 'sag', 'max_iter': 581}. Best is trial 0 with value: 0.7166666666666667.\u001b[0m\n",
      "\u001b[32m[I 2023-03-20 19:01:32,940]\u001b[0m Trial 71 finished with value: 0.7166666666666667 and parameters: {'C': 841.6663151136576, 'solver': 'sag', 'max_iter': 759}. Best is trial 0 with value: 0.7166666666666667.\u001b[0m\n",
      "\u001b[32m[I 2023-03-20 19:01:32,959]\u001b[0m Trial 72 finished with value: 0.7166666666666667 and parameters: {'C': 3856.560412096262, 'solver': 'sag', 'max_iter': 923}. Best is trial 0 with value: 0.7166666666666667.\u001b[0m\n",
      "\u001b[32m[I 2023-03-20 19:01:32,979]\u001b[0m Trial 73 finished with value: 0.7166666666666667 and parameters: {'C': 1965.478749473484, 'solver': 'sag', 'max_iter': 502}. Best is trial 0 with value: 0.7166666666666667.\u001b[0m\n",
      "\u001b[32m[I 2023-03-20 19:01:33,001]\u001b[0m Trial 74 finished with value: 0.7166666666666667 and parameters: {'C': 5719.754469781017, 'solver': 'newton-cg', 'max_iter': 654}. Best is trial 0 with value: 0.7166666666666667.\u001b[0m\n",
      "\u001b[32m[I 2023-03-20 19:01:33,020]\u001b[0m Trial 75 finished with value: 0.7166666666666667 and parameters: {'C': 60.20659759919877, 'solver': 'sag', 'max_iter': 862}. Best is trial 0 with value: 0.7166666666666667.\u001b[0m\n",
      "\u001b[32m[I 2023-03-20 19:01:33,040]\u001b[0m Trial 76 finished with value: 0.7166666666666667 and parameters: {'C': 3660.7514637176805, 'solver': 'saga', 'max_iter': 555}. Best is trial 0 with value: 0.7166666666666667.\u001b[0m\n",
      "\u001b[32m[I 2023-03-20 19:01:33,059]\u001b[0m Trial 77 finished with value: 0.7166666666666667 and parameters: {'C': 115.73155982651433, 'solver': 'lbfgs', 'max_iter': 608}. Best is trial 0 with value: 0.7166666666666667.\u001b[0m\n",
      "\u001b[32m[I 2023-03-20 19:01:33,079]\u001b[0m Trial 78 finished with value: 0.7166666666666667 and parameters: {'C': 7895.748814675518, 'solver': 'sag', 'max_iter': 969}. Best is trial 0 with value: 0.7166666666666667.\u001b[0m\n",
      "\u001b[32m[I 2023-03-20 19:01:33,102]\u001b[0m Trial 79 finished with value: 0.7166666666666667 and parameters: {'C': 503.86929435807485, 'solver': 'newton-cg', 'max_iter': 836}. Best is trial 0 with value: 0.7166666666666667.\u001b[0m\n",
      "\u001b[32m[I 2023-03-20 19:01:33,121]\u001b[0m Trial 80 finished with value: 0.7166666666666667 and parameters: {'C': 351.6451118431451, 'solver': 'sag', 'max_iter': 718}. Best is trial 0 with value: 0.7166666666666667.\u001b[0m\n",
      "\u001b[32m[I 2023-03-20 19:01:33,141]\u001b[0m Trial 81 finished with value: 0.7166666666666667 and parameters: {'C': 1549.2580739075288, 'solver': 'sag', 'max_iter': 690}. Best is trial 0 with value: 0.7166666666666667.\u001b[0m\n",
      "\u001b[32m[I 2023-03-20 19:01:33,161]\u001b[0m Trial 82 finished with value: 0.7166666666666667 and parameters: {'C': 993.6144682953642, 'solver': 'sag', 'max_iter': 898}. Best is trial 0 with value: 0.7166666666666667.\u001b[0m\n",
      "\u001b[32m[I 2023-03-20 19:01:33,181]\u001b[0m Trial 83 finished with value: 0.7166666666666667 and parameters: {'C': 198.88848047672076, 'solver': 'sag', 'max_iter': 783}. Best is trial 0 with value: 0.7166666666666667.\u001b[0m\n",
      "\u001b[32m[I 2023-03-20 19:01:33,199]\u001b[0m Trial 84 finished with value: 0.7166666666666667 and parameters: {'C': 772.6828435974967, 'solver': 'liblinear', 'max_iter': 646}. Best is trial 0 with value: 0.7166666666666667.\u001b[0m\n",
      "\u001b[32m[I 2023-03-20 19:01:33,220]\u001b[0m Trial 85 finished with value: 0.7166666666666667 and parameters: {'C': 2325.323130455375, 'solver': 'sag', 'max_iter': 795}. Best is trial 0 with value: 0.7166666666666667.\u001b[0m\n",
      "\u001b[32m[I 2023-03-20 19:01:33,242]\u001b[0m Trial 86 finished with value: 0.7166666666666667 and parameters: {'C': 152.93703852249726, 'solver': 'newton-cg', 'max_iter': 761}. Best is trial 0 with value: 0.7166666666666667.\u001b[0m\n",
      "\u001b[32m[I 2023-03-20 19:01:33,262]\u001b[0m Trial 87 finished with value: 0.7166666666666667 and parameters: {'C': 73.36018923745542, 'solver': 'saga', 'max_iter': 726}. Best is trial 0 with value: 0.7166666666666667.\u001b[0m\n",
      "\u001b[32m[I 2023-03-20 19:01:33,284]\u001b[0m Trial 88 finished with value: 0.7166666666666667 and parameters: {'C': 3336.275583209728, 'solver': 'lbfgs', 'max_iter': 398}. Best is trial 0 with value: 0.7166666666666667.\u001b[0m\n",
      "\u001b[32m[I 2023-03-20 19:01:33,304]\u001b[0m Trial 89 finished with value: 0.7166666666666667 and parameters: {'C': 271.5313958816766, 'solver': 'sag', 'max_iter': 864}. Best is trial 0 with value: 0.7166666666666667.\u001b[0m\n",
      "\u001b[32m[I 2023-03-20 19:01:33,328]\u001b[0m Trial 90 finished with value: 0.7166666666666667 and parameters: {'C': 1445.4995474481861, 'solver': 'newton-cg', 'max_iter': 944}. Best is trial 0 with value: 0.7166666666666667.\u001b[0m\n",
      "\u001b[32m[I 2023-03-20 19:01:33,348]\u001b[0m Trial 91 finished with value: 0.7166666666666667 and parameters: {'C': 6612.1718371335855, 'solver': 'liblinear', 'max_iter': 449}. Best is trial 0 with value: 0.7166666666666667.\u001b[0m\n",
      "\u001b[32m[I 2023-03-20 19:01:33,369]\u001b[0m Trial 92 finished with value: 0.7166666666666667 and parameters: {'C': 9724.490256166124, 'solver': 'liblinear', 'max_iter': 484}. Best is trial 0 with value: 0.7166666666666667.\u001b[0m\n",
      "\u001b[32m[I 2023-03-20 19:01:33,389]\u001b[0m Trial 93 finished with value: 0.7166666666666667 and parameters: {'C': 5427.816026997214, 'solver': 'liblinear', 'max_iter': 536}. Best is trial 0 with value: 0.7166666666666667.\u001b[0m\n",
      "\u001b[32m[I 2023-03-20 19:01:33,409]\u001b[0m Trial 94 finished with value: 0.7166666666666667 and parameters: {'C': 2825.626736665506, 'solver': 'liblinear', 'max_iter': 508}. Best is trial 0 with value: 0.7166666666666667.\u001b[0m\n",
      "\u001b[32m[I 2023-03-20 19:01:33,431]\u001b[0m Trial 95 finished with value: 0.7166666666666667 and parameters: {'C': 526.4273187667662, 'solver': 'lbfgs', 'max_iter': 975}. Best is trial 0 with value: 0.7166666666666667.\u001b[0m\n",
      "\u001b[32m[I 2023-03-20 19:01:33,453]\u001b[0m Trial 96 finished with value: 0.7166666666666667 and parameters: {'C': 3767.112035701504, 'solver': 'saga', 'max_iter': 565}. Best is trial 0 with value: 0.7166666666666667.\u001b[0m\n",
      "\u001b[32m[I 2023-03-20 19:01:33,475]\u001b[0m Trial 97 finished with value: 0.7166666666666667 and parameters: {'C': 1059.9112417940626, 'solver': 'sag', 'max_iter': 365}. Best is trial 0 with value: 0.7166666666666667.\u001b[0m\n",
      "\u001b[32m[I 2023-03-20 19:01:33,500]\u001b[0m Trial 98 finished with value: 0.7166666666666667 and parameters: {'C': 340.71519012112054, 'solver': 'newton-cg', 'max_iter': 215}. Best is trial 0 with value: 0.7166666666666667.\u001b[0m\n",
      "\u001b[32m[I 2023-03-20 19:01:33,523]\u001b[0m Trial 99 finished with value: 0.7166666666666667 and parameters: {'C': 1895.3278968284847, 'solver': 'lbfgs', 'max_iter': 429}. Best is trial 0 with value: 0.7166666666666667.\u001b[0m\n"
     ]
    },
    {
     "data": {
      "text/html": [
       "<style>#sk-container-id-2 {color: black;background-color: white;}#sk-container-id-2 pre{padding: 0;}#sk-container-id-2 div.sk-toggleable {background-color: white;}#sk-container-id-2 label.sk-toggleable__label {cursor: pointer;display: block;width: 100%;margin-bottom: 0;padding: 0.3em;box-sizing: border-box;text-align: center;}#sk-container-id-2 label.sk-toggleable__label-arrow:before {content: \"▸\";float: left;margin-right: 0.25em;color: #696969;}#sk-container-id-2 label.sk-toggleable__label-arrow:hover:before {color: black;}#sk-container-id-2 div.sk-estimator:hover label.sk-toggleable__label-arrow:before {color: black;}#sk-container-id-2 div.sk-toggleable__content {max-height: 0;max-width: 0;overflow: hidden;text-align: left;background-color: #f0f8ff;}#sk-container-id-2 div.sk-toggleable__content pre {margin: 0.2em;color: black;border-radius: 0.25em;background-color: #f0f8ff;}#sk-container-id-2 input.sk-toggleable__control:checked~div.sk-toggleable__content {max-height: 200px;max-width: 100%;overflow: auto;}#sk-container-id-2 input.sk-toggleable__control:checked~label.sk-toggleable__label-arrow:before {content: \"▾\";}#sk-container-id-2 div.sk-estimator input.sk-toggleable__control:checked~label.sk-toggleable__label {background-color: #d4ebff;}#sk-container-id-2 div.sk-label input.sk-toggleable__control:checked~label.sk-toggleable__label {background-color: #d4ebff;}#sk-container-id-2 input.sk-hidden--visually {border: 0;clip: rect(1px 1px 1px 1px);clip: rect(1px, 1px, 1px, 1px);height: 1px;margin: -1px;overflow: hidden;padding: 0;position: absolute;width: 1px;}#sk-container-id-2 div.sk-estimator {font-family: monospace;background-color: #f0f8ff;border: 1px dotted black;border-radius: 0.25em;box-sizing: border-box;margin-bottom: 0.5em;}#sk-container-id-2 div.sk-estimator:hover {background-color: #d4ebff;}#sk-container-id-2 div.sk-parallel-item::after {content: \"\";width: 100%;border-bottom: 1px solid gray;flex-grow: 1;}#sk-container-id-2 div.sk-label:hover label.sk-toggleable__label {background-color: #d4ebff;}#sk-container-id-2 div.sk-serial::before {content: \"\";position: absolute;border-left: 1px solid gray;box-sizing: border-box;top: 0;bottom: 0;left: 50%;z-index: 0;}#sk-container-id-2 div.sk-serial {display: flex;flex-direction: column;align-items: center;background-color: white;padding-right: 0.2em;padding-left: 0.2em;position: relative;}#sk-container-id-2 div.sk-item {position: relative;z-index: 1;}#sk-container-id-2 div.sk-parallel {display: flex;align-items: stretch;justify-content: center;background-color: white;position: relative;}#sk-container-id-2 div.sk-item::before, #sk-container-id-2 div.sk-parallel-item::before {content: \"\";position: absolute;border-left: 1px solid gray;box-sizing: border-box;top: 0;bottom: 0;left: 50%;z-index: -1;}#sk-container-id-2 div.sk-parallel-item {display: flex;flex-direction: column;z-index: 1;position: relative;background-color: white;}#sk-container-id-2 div.sk-parallel-item:first-child::after {align-self: flex-end;width: 50%;}#sk-container-id-2 div.sk-parallel-item:last-child::after {align-self: flex-start;width: 50%;}#sk-container-id-2 div.sk-parallel-item:only-child::after {width: 0;}#sk-container-id-2 div.sk-dashed-wrapped {border: 1px dashed gray;margin: 0 0.4em 0.5em 0.4em;box-sizing: border-box;padding-bottom: 0.4em;background-color: white;}#sk-container-id-2 div.sk-label label {font-family: monospace;font-weight: bold;display: inline-block;line-height: 1.2em;}#sk-container-id-2 div.sk-label-container {text-align: center;}#sk-container-id-2 div.sk-container {/* jupyter's `normalize.less` sets `[hidden] { display: none; }` but bootstrap.min.css set `[hidden] { display: none !important; }` so we also need the `!important` here to be able to override the default hidden behavior on the sphinx rendered scikit-learn.org. See: https://github.com/scikit-learn/scikit-learn/issues/21755 */display: inline-block !important;position: relative;}#sk-container-id-2 div.sk-text-repr-fallback {display: none;}</style><div id=\"sk-container-id-2\" class=\"sk-top-container\"><div class=\"sk-text-repr-fallback\"><pre>LogisticRegression(C=307.6982874274656, max_iter=899, random_state=42)</pre><b>In a Jupyter environment, please rerun this cell to show the HTML representation or trust the notebook. <br />On GitHub, the HTML representation is unable to render, please try loading this page with nbviewer.org.</b></div><div class=\"sk-container\" hidden><div class=\"sk-item\"><div class=\"sk-estimator sk-toggleable\"><input class=\"sk-toggleable__control sk-hidden--visually\" id=\"sk-estimator-id-2\" type=\"checkbox\" checked><label for=\"sk-estimator-id-2\" class=\"sk-toggleable__label sk-toggleable__label-arrow\">LogisticRegression</label><div class=\"sk-toggleable__content\"><pre>LogisticRegression(C=307.6982874274656, max_iter=899, random_state=42)</pre></div></div></div></div></div>"
      ],
      "text/plain": [
       "LogisticRegression(C=307.6982874274656, max_iter=899, random_state=42)"
      ]
     },
     "execution_count": 32,
     "metadata": {},
     "output_type": "execute_result"
    }
   ],
   "source": [
    "# Create a study object and optimize the objective function\n",
    "study = optuna.create_study(direction='maximize')\n",
    "study.optimize(objective, n_trials=100)\n",
    "\n",
    "# Extract the best hyperparameters and train a new LogisticRegression classifier with them\n",
    "best_params = study.best_params\n",
    "clf = LogisticRegression(C=best_params['C'], solver=best_params['solver'], max_iter=best_params['max_iter'], random_state=42)\n",
    "clf.fit(X, y)"
   ]
  },
  {
   "cell_type": "code",
   "execution_count": 33,
   "id": "0d8c93a1-6a77-438b-a675-256c193930c2",
   "metadata": {},
   "outputs": [],
   "source": [
    "outsample_predictions = clf.predict(X)"
   ]
  },
  {
   "cell_type": "code",
   "execution_count": 34,
   "id": "1129f431-7800-42a5-a892-d4d08b1cc034",
   "metadata": {},
   "outputs": [
    {
     "name": "stdout",
     "output_type": "stream",
     "text": [
      "Accuracy 65.00%\n",
      "              precision    recall  f1-score   support\n",
      "\n",
      "           0       0.65      0.64      0.65       300\n",
      "           1       0.65      0.66      0.65       300\n",
      "\n",
      "    accuracy                           0.65       600\n",
      "   macro avg       0.65      0.65      0.65       600\n",
      "weighted avg       0.65      0.65      0.65       600\n",
      "\n"
     ]
    }
   ],
   "source": [
    "print(\"Accuracy {0:.2f}%\".format(100*accuracy_score(outsample_predictions, y)))\n",
    "print(classification_report(y, outsample_predictions))"
   ]
  },
  {
   "cell_type": "code",
   "execution_count": 35,
   "id": "56bf6301-7eb6-4abb-a3fa-3717f8f30a3d",
   "metadata": {},
   "outputs": [],
   "source": [
    "from xgboost import XGBClassifier"
   ]
  },
  {
   "cell_type": "code",
   "execution_count": 36,
   "id": "e79f20f4-7e8f-4061-b30c-4cc7b9651433",
   "metadata": {},
   "outputs": [
    {
     "name": "stdout",
     "output_type": "stream",
     "text": [
      "Accuracy: 87.22%\n",
      "              precision    recall  f1-score   support\n",
      "\n",
      "           0       0.85      0.90      0.88        90\n",
      "           1       0.89      0.84      0.87        90\n",
      "\n",
      "    accuracy                           0.87       180\n",
      "   macro avg       0.87      0.87      0.87       180\n",
      "weighted avg       0.87      0.87      0.87       180\n",
      "\n"
     ]
    }
   ],
   "source": [
    "# fit model no training data\n",
    "model = XGBClassifier()\n",
    "model.fit(X_train, y_train)\n",
    "# make predictions for test data\n",
    "y_pred = model.predict(X_test)\n",
    "predictions = [round(value) for value in y_pred]\n",
    "# evaluate predictions\n",
    "accuracy = accuracy_score(y_test, predictions)\n",
    "print(\"Accuracy: %.2f%%\" % (accuracy * 100.0))\n",
    "print(classification_report(y_test, predictions))"
   ]
  },
  {
   "cell_type": "code",
   "execution_count": 37,
   "id": "4cda78cf-e86a-4925-99a5-f7e9ea660d34",
   "metadata": {},
   "outputs": [
    {
     "data": {
      "text/html": [
       "<style>#sk-container-id-3 {color: black;background-color: white;}#sk-container-id-3 pre{padding: 0;}#sk-container-id-3 div.sk-toggleable {background-color: white;}#sk-container-id-3 label.sk-toggleable__label {cursor: pointer;display: block;width: 100%;margin-bottom: 0;padding: 0.3em;box-sizing: border-box;text-align: center;}#sk-container-id-3 label.sk-toggleable__label-arrow:before {content: \"▸\";float: left;margin-right: 0.25em;color: #696969;}#sk-container-id-3 label.sk-toggleable__label-arrow:hover:before {color: black;}#sk-container-id-3 div.sk-estimator:hover label.sk-toggleable__label-arrow:before {color: black;}#sk-container-id-3 div.sk-toggleable__content {max-height: 0;max-width: 0;overflow: hidden;text-align: left;background-color: #f0f8ff;}#sk-container-id-3 div.sk-toggleable__content pre {margin: 0.2em;color: black;border-radius: 0.25em;background-color: #f0f8ff;}#sk-container-id-3 input.sk-toggleable__control:checked~div.sk-toggleable__content {max-height: 200px;max-width: 100%;overflow: auto;}#sk-container-id-3 input.sk-toggleable__control:checked~label.sk-toggleable__label-arrow:before {content: \"▾\";}#sk-container-id-3 div.sk-estimator input.sk-toggleable__control:checked~label.sk-toggleable__label {background-color: #d4ebff;}#sk-container-id-3 div.sk-label input.sk-toggleable__control:checked~label.sk-toggleable__label {background-color: #d4ebff;}#sk-container-id-3 input.sk-hidden--visually {border: 0;clip: rect(1px 1px 1px 1px);clip: rect(1px, 1px, 1px, 1px);height: 1px;margin: -1px;overflow: hidden;padding: 0;position: absolute;width: 1px;}#sk-container-id-3 div.sk-estimator {font-family: monospace;background-color: #f0f8ff;border: 1px dotted black;border-radius: 0.25em;box-sizing: border-box;margin-bottom: 0.5em;}#sk-container-id-3 div.sk-estimator:hover {background-color: #d4ebff;}#sk-container-id-3 div.sk-parallel-item::after {content: \"\";width: 100%;border-bottom: 1px solid gray;flex-grow: 1;}#sk-container-id-3 div.sk-label:hover label.sk-toggleable__label {background-color: #d4ebff;}#sk-container-id-3 div.sk-serial::before {content: \"\";position: absolute;border-left: 1px solid gray;box-sizing: border-box;top: 0;bottom: 0;left: 50%;z-index: 0;}#sk-container-id-3 div.sk-serial {display: flex;flex-direction: column;align-items: center;background-color: white;padding-right: 0.2em;padding-left: 0.2em;position: relative;}#sk-container-id-3 div.sk-item {position: relative;z-index: 1;}#sk-container-id-3 div.sk-parallel {display: flex;align-items: stretch;justify-content: center;background-color: white;position: relative;}#sk-container-id-3 div.sk-item::before, #sk-container-id-3 div.sk-parallel-item::before {content: \"\";position: absolute;border-left: 1px solid gray;box-sizing: border-box;top: 0;bottom: 0;left: 50%;z-index: -1;}#sk-container-id-3 div.sk-parallel-item {display: flex;flex-direction: column;z-index: 1;position: relative;background-color: white;}#sk-container-id-3 div.sk-parallel-item:first-child::after {align-self: flex-end;width: 50%;}#sk-container-id-3 div.sk-parallel-item:last-child::after {align-self: flex-start;width: 50%;}#sk-container-id-3 div.sk-parallel-item:only-child::after {width: 0;}#sk-container-id-3 div.sk-dashed-wrapped {border: 1px dashed gray;margin: 0 0.4em 0.5em 0.4em;box-sizing: border-box;padding-bottom: 0.4em;background-color: white;}#sk-container-id-3 div.sk-label label {font-family: monospace;font-weight: bold;display: inline-block;line-height: 1.2em;}#sk-container-id-3 div.sk-label-container {text-align: center;}#sk-container-id-3 div.sk-container {/* jupyter's `normalize.less` sets `[hidden] { display: none; }` but bootstrap.min.css set `[hidden] { display: none !important; }` so we also need the `!important` here to be able to override the default hidden behavior on the sphinx rendered scikit-learn.org. See: https://github.com/scikit-learn/scikit-learn/issues/21755 */display: inline-block !important;position: relative;}#sk-container-id-3 div.sk-text-repr-fallback {display: none;}</style><div id=\"sk-container-id-3\" class=\"sk-top-container\"><div class=\"sk-text-repr-fallback\"><pre>XGBClassifier(base_score=None, booster=None, callbacks=None,\n",
       "              colsample_bylevel=None, colsample_bynode=None,\n",
       "              colsample_bytree=None, early_stopping_rounds=None,\n",
       "              enable_categorical=False, eval_metric=None, feature_types=None,\n",
       "              gamma=None, gpu_id=None, grow_policy=None, importance_type=None,\n",
       "              interaction_constraints=None, learning_rate=None, max_bin=None,\n",
       "              max_cat_threshold=None, max_cat_to_onehot=None,\n",
       "              max_delta_step=None, max_depth=None, max_leaves=None,\n",
       "              min_child_weight=None, missing=nan, monotone_constraints=None,\n",
       "              n_estimators=100, n_jobs=None, num_parallel_tree=None,\n",
       "              predictor=None, random_state=None, ...)</pre><b>In a Jupyter environment, please rerun this cell to show the HTML representation or trust the notebook. <br />On GitHub, the HTML representation is unable to render, please try loading this page with nbviewer.org.</b></div><div class=\"sk-container\" hidden><div class=\"sk-item\"><div class=\"sk-estimator sk-toggleable\"><input class=\"sk-toggleable__control sk-hidden--visually\" id=\"sk-estimator-id-3\" type=\"checkbox\" checked><label for=\"sk-estimator-id-3\" class=\"sk-toggleable__label sk-toggleable__label-arrow\">XGBClassifier</label><div class=\"sk-toggleable__content\"><pre>XGBClassifier(base_score=None, booster=None, callbacks=None,\n",
       "              colsample_bylevel=None, colsample_bynode=None,\n",
       "              colsample_bytree=None, early_stopping_rounds=None,\n",
       "              enable_categorical=False, eval_metric=None, feature_types=None,\n",
       "              gamma=None, gpu_id=None, grow_policy=None, importance_type=None,\n",
       "              interaction_constraints=None, learning_rate=None, max_bin=None,\n",
       "              max_cat_threshold=None, max_cat_to_onehot=None,\n",
       "              max_delta_step=None, max_depth=None, max_leaves=None,\n",
       "              min_child_weight=None, missing=nan, monotone_constraints=None,\n",
       "              n_estimators=100, n_jobs=None, num_parallel_tree=None,\n",
       "              predictor=None, random_state=None, ...)</pre></div></div></div></div></div>"
      ],
      "text/plain": [
       "XGBClassifier(base_score=None, booster=None, callbacks=None,\n",
       "              colsample_bylevel=None, colsample_bynode=None,\n",
       "              colsample_bytree=None, early_stopping_rounds=None,\n",
       "              enable_categorical=False, eval_metric=None, feature_types=None,\n",
       "              gamma=None, gpu_id=None, grow_policy=None, importance_type=None,\n",
       "              interaction_constraints=None, learning_rate=None, max_bin=None,\n",
       "              max_cat_threshold=None, max_cat_to_onehot=None,\n",
       "              max_delta_step=None, max_depth=None, max_leaves=None,\n",
       "              min_child_weight=None, missing=nan, monotone_constraints=None,\n",
       "              n_estimators=100, n_jobs=None, num_parallel_tree=None,\n",
       "              predictor=None, random_state=None, ...)"
      ]
     },
     "execution_count": 37,
     "metadata": {},
     "output_type": "execute_result"
    }
   ],
   "source": [
    "# fit model no training data\n",
    "model = XGBClassifier()\n",
    "model.fit(X, y)"
   ]
  },
  {
   "cell_type": "markdown",
   "id": "09eded29-9f9e-42cf-adab-271f5b8d6065",
   "metadata": {},
   "source": [
    "## Submissão"
   ]
  },
  {
   "cell_type": "code",
   "execution_count": 38,
   "id": "42a51438-6c3b-4864-a28b-47ae8bd3b1a3",
   "metadata": {},
   "outputs": [
    {
     "data": {
      "text/html": [
       "<div>\n",
       "<style scoped>\n",
       "    .dataframe tbody tr th:only-of-type {\n",
       "        vertical-align: middle;\n",
       "    }\n",
       "\n",
       "    .dataframe tbody tr th {\n",
       "        vertical-align: top;\n",
       "    }\n",
       "\n",
       "    .dataframe thead th {\n",
       "        text-align: right;\n",
       "    }\n",
       "</style>\n",
       "<table border=\"1\" class=\"dataframe\">\n",
       "  <thead>\n",
       "    <tr style=\"text-align: right;\">\n",
       "      <th></th>\n",
       "      <th>vh</th>\n",
       "      <th>vv</th>\n",
       "    </tr>\n",
       "  </thead>\n",
       "  <tbody>\n",
       "    <tr>\n",
       "      <th>0</th>\n",
       "      <td>0.024609</td>\n",
       "      <td>0.501586</td>\n",
       "    </tr>\n",
       "    <tr>\n",
       "      <th>1</th>\n",
       "      <td>0.006429</td>\n",
       "      <td>0.041601</td>\n",
       "    </tr>\n",
       "    <tr>\n",
       "      <th>2</th>\n",
       "      <td>0.026099</td>\n",
       "      <td>0.142201</td>\n",
       "    </tr>\n",
       "    <tr>\n",
       "      <th>3</th>\n",
       "      <td>0.004037</td>\n",
       "      <td>0.009916</td>\n",
       "    </tr>\n",
       "    <tr>\n",
       "      <th>4</th>\n",
       "      <td>0.023141</td>\n",
       "      <td>0.254619</td>\n",
       "    </tr>\n",
       "  </tbody>\n",
       "</table>\n",
       "</div>"
      ],
      "text/plain": [
       "         vh        vv\n",
       "0  0.024609  0.501586\n",
       "1  0.006429  0.041601\n",
       "2  0.026099  0.142201\n",
       "3  0.004037  0.009916\n",
       "4  0.023141  0.254619"
      ]
     },
     "execution_count": 38,
     "metadata": {},
     "output_type": "execute_result"
    }
   ],
   "source": [
    "submission_vh_vv_data.head()"
   ]
  },
  {
   "cell_type": "code",
   "execution_count": 39,
   "id": "67d35a30-9130-46b3-8454-40c2732bedca",
   "metadata": {},
   "outputs": [],
   "source": [
    "# Load your VV and VH data into numpy arrays\n",
    "vv = np.array(submission_vh_vv_data['vv'])\n",
    "vh = np.array(submission_vh_vv_data['vh'])\n",
    "\n",
    "# Calculate NDVI\n",
    "RVI = np.sqrt(1- vv / (vv+vh)) * 4 * (vh / (vv + vh))\n",
    "submission_vh_vv_data['RVI'] = RVI"
   ]
  },
  {
   "cell_type": "code",
   "execution_count": 40,
   "id": "77c730ec-51d5-4a41-9996-7d657f17a323",
   "metadata": {},
   "outputs": [],
   "source": [
    "# Feature Scaling \n",
    "submission_vh_vv_data_np = submission_vh_vv_data.values\n",
    "transformed_submission_data = sc.transform(submission_vh_vv_data_np)"
   ]
  },
  {
   "cell_type": "code",
   "execution_count": 41,
   "id": "8bd91c1e-b3ad-4917-997c-6b3e137f76c6",
   "metadata": {},
   "outputs": [],
   "source": [
    "#Making predictions\n",
    "final_predictions = model.predict(transformed_submission_data)\n",
    "final_prediction_series = pd.Series(final_predictions)"
   ]
  },
  {
   "cell_type": "code",
   "execution_count": 42,
   "id": "7fd3408a-c4db-4bd2-8963-1f7088b61463",
   "metadata": {},
   "outputs": [],
   "source": [
    "#Combining the results into dataframe\n",
    "submission_df = pd.DataFrame({'id':test_file['id'].values, 'target':final_prediction_series.values})"
   ]
  },
  {
   "cell_type": "code",
   "execution_count": 43,
   "id": "60d0e8dc-eb11-45f3-83cb-e5c729722ae8",
   "metadata": {},
   "outputs": [],
   "source": [
    "submission_df['target'] = submission_df['target'].replace(1,'Rice')\n",
    "submission_df['target'] = submission_df['target'].replace(0,'Non Rice')\n"
   ]
  },
  {
   "cell_type": "code",
   "execution_count": 44,
   "id": "86c3a1f6-f317-47a5-8622-d1a7efc9e9bd",
   "metadata": {},
   "outputs": [],
   "source": [
    "#Dumping the predictions into a csv file.\n",
    "submission_df.to_csv(\"challenge_1_submission_rice_crop_prediction.csv\",index = False)"
   ]
  },
  {
   "cell_type": "code",
   "execution_count": null,
   "id": "9b823f52-9610-4639-bc02-d6ed0115fc32",
   "metadata": {},
   "outputs": [],
   "source": []
  }
 ],
 "metadata": {
  "kernelspec": {
   "display_name": "Python 3 (ipykernel)",
   "language": "python",
   "name": "python3"
  },
  "language_info": {
   "codemirror_mode": {
    "name": "ipython",
    "version": 3
   },
   "file_extension": ".py",
   "mimetype": "text/x-python",
   "name": "python",
   "nbconvert_exporter": "python",
   "pygments_lexer": "ipython3",
   "version": "3.10.6"
  }
 },
 "nbformat": 4,
 "nbformat_minor": 5
}
